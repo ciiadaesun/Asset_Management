{
 "cells": [
  {
   "cell_type": "code",
   "execution_count": 1,
   "metadata": {},
   "outputs": [],
   "source": [
    "import numpy as np\n",
    "import pandas as pd\n",
    "import matplotlib.pyplot as plt\n",
    "from scipy.optimize import minimize\n",
    "from dateutil import relativedelta\n",
    "from scipy.stats import norm\n",
    "import seaborn as sns\n",
    "from business_duration import businessDuration\n",
    "import businesstimedelta"
   ]
  },
  {
   "cell_type": "code",
   "execution_count": 2,
   "metadata": {},
   "outputs": [
    {
     "name": "stdout",
     "output_type": "stream",
     "text": [
      "C:\\Users\\LIMDAESUN\\Desktop\\카이스트관련\\UIUC\\Risk_Management\\Project\\FRM_Project\n"
     ]
    }
   ],
   "source": [
    "cd C:\\Users\\LIMDAESUN\\Desktop\\카이스트관련\\UIUC\\Risk_Management\\Project\\FRM_Project"
   ]
  },
  {
   "cell_type": "code",
   "execution_count": 3,
   "metadata": {},
   "outputs": [],
   "source": [
    "Dow_price = pd.read_excel('Dow_jones_price.xlsx',index_col=0)\n",
    "Stock_price = pd.read_excel('Stock_price.xlsx', index_col=0)"
   ]
  },
  {
   "cell_type": "code",
   "execution_count": 4,
   "metadata": {
    "scrolled": true
   },
   "outputs": [],
   "source": [
    "Div_DJX = pd.read_csv('DJI_div.csv', index_col = 0)\n",
    "Div_Stock = pd.read_excel('Stock_Div_date.xlsx')\n",
    "Div_DJX.index = pd.to_datetime(Div_DJX.index)"
   ]
  },
  {
   "cell_type": "code",
   "execution_count": 5,
   "metadata": {},
   "outputs": [],
   "source": [
    "def preprocessing(path_C, path_P, path_DJX_C , path_DJX_P) :\n",
    "    C_ATM = pd.read_excel(path_C,index_col=0 , header=None)\n",
    "    P_ATM = pd.read_excel(path_P,index_col=0 , header=None)\n",
    "    C_Dow_ATM = pd.read_excel(path_DJX_C, index_col=0)\n",
    "    P_Dow_ATM = pd.read_excel(path_DJX_P, index_col=0)\n",
    "    big_col = list(C_ATM.iloc[0].fillna(method = 'ffill'))\n",
    "    small_col = list(C_ATM.iloc[1])\n",
    "    C_ATM.index.name= 'date'\n",
    "    C_ATM.columns = [big_col,small_col]\n",
    "    P_ATM.columns = [big_col,small_col]\n",
    "    C_ATM = C_ATM.iloc[3:]\n",
    "    P_ATM = P_ATM.iloc[3:]\n",
    "    C_ATM_lst = []\n",
    "    P_ATM_lst = []\n",
    "    for i in Stock_price.columns :\n",
    "        C_ATM_lst.append(C_ATM[i])\n",
    "        P_ATM_lst.append(P_ATM[i])\n",
    "    return C_ATM, C_ATM_lst , P_ATM, P_ATM_lst, C_Dow_ATM, P_Dow_ATM"
   ]
  },
  {
   "cell_type": "code",
   "execution_count": 6,
   "metadata": {},
   "outputs": [],
   "source": [
    "C_26_30, C_26_30_lst, P_26_30, P_26_30_lst , C_Dow_26_30, P_Dow_26_30 = preprocessing('C_ATM_26_30.xlsx', 'P_ATM_26_30.xlsx', 'DJX_C_26_30.xlsx', 'DJX_P_26_30.xlsx')"
   ]
  },
  {
   "cell_type": "code",
   "execution_count": 7,
   "metadata": {},
   "outputs": [],
   "source": [
    "Annual_return = (pd.read_csv('interest_rate.csv', index_col = 0,parse_dates=['caldt']) * 12).resample('D').last().interpolate(method = 'cubic')"
   ]
  },
  {
   "cell_type": "code",
   "execution_count": 8,
   "metadata": {},
   "outputs": [],
   "source": [
    "trading_day = pd.datetime(2019,6,19)\n",
    "Total_Businessday = int(businessDuration(trading_day, trading_day + relativedelta.relativedelta(years = 1), unit = 'day'))\n",
    "Dow_price = Dow_price[:trading_day]\n",
    "Stock_price = Stock_price[:trading_day]\n",
    "Stock_return = np.log(Stock_price).diff().iloc[1:]\n",
    "index_return = np.log(Dow_price).diff().iloc[1:]\n",
    "Ticker = Stock_price.columns"
   ]
  },
  {
   "cell_type": "markdown",
   "metadata": {},
   "source": [
    " # My Option Position"
   ]
  },
  {
   "cell_type": "code",
   "execution_count": 9,
   "metadata": {},
   "outputs": [],
   "source": [
    "C_Position = pd.DataFrame([])\n",
    "P_Position = pd.DataFrame([])\n",
    "imvol_lst = []\n",
    "K_lst = []\n",
    "for i in Ticker :\n",
    "    C_Position = pd.concat([C_Position , C_26_30[i].loc[[trading_day]]] , axis = 0)\n",
    "    P_Position = pd.concat([P_Position , P_26_30[i].loc[[trading_day]]], axis = 0)\n",
    "    impl_vol = 0.5 * C_26_30[i].impl_volatility.loc[trading_day] + 0.5 * P_26_30[i].impl_volatility.loc[trading_day]\n",
    "    imvol_lst.append(impl_vol)\n",
    "    K_lst.append(C_26_30[i].loc[trading_day].strike_price/1000)\n",
    "imvol_lst = pd.Series(imvol_lst, index = Ticker)\n",
    "K_lst = pd.Series(K_lst, index = Ticker)"
   ]
  },
  {
   "cell_type": "code",
   "execution_count": 10,
   "metadata": {},
   "outputs": [
    {
     "data": {
      "text/html": [
       "<div>\n",
       "<style scoped>\n",
       "    .dataframe tbody tr th:only-of-type {\n",
       "        vertical-align: middle;\n",
       "    }\n",
       "\n",
       "    .dataframe tbody tr th {\n",
       "        vertical-align: top;\n",
       "    }\n",
       "\n",
       "    .dataframe thead th {\n",
       "        text-align: right;\n",
       "    }\n",
       "</style>\n",
       "<table border=\"1\" class=\"dataframe\">\n",
       "  <thead>\n",
       "    <tr style=\"text-align: right;\">\n",
       "      <th></th>\n",
       "      <th>exdate</th>\n",
       "      <th>best_offer</th>\n",
       "      <th>delta</th>\n",
       "      <th>gamma</th>\n",
       "      <th>vega</th>\n",
       "      <th>theta</th>\n",
       "    </tr>\n",
       "  </thead>\n",
       "  <tbody>\n",
       "    <tr>\n",
       "      <th>2019-06-19</th>\n",
       "      <td>2019-07-19</td>\n",
       "      <td>6.619655</td>\n",
       "      <td>0.101933</td>\n",
       "      <td>0.138811</td>\n",
       "      <td>29.718216</td>\n",
       "      <td>-38.592585</td>\n",
       "    </tr>\n",
       "  </tbody>\n",
       "</table>\n",
       "</div>"
      ],
      "text/plain": [
       "               exdate  best_offer     delta     gamma       vega      theta\n",
       "2019-06-19 2019-07-19    6.619655  0.101933  0.138811  29.718216 -38.592585"
      ]
     },
     "execution_count": 10,
     "metadata": {},
     "output_type": "execute_result"
    }
   ],
   "source": [
    "Straddle = C_Position[['best_offer','delta','gamma','vega','theta']].sum(0)/29 + P_Position[['best_offer','delta','gamma','vega','theta']].sum(0)/29\n",
    "Straddle = pd.DataFrame(Straddle, columns=[trading_day]).T\n",
    "Straddle['exdate'] = C_Position.exdate.iloc[0]\n",
    "Straddle = Straddle[[Straddle.columns[-1]] + list(Straddle.columns[:-1])]\n",
    "Straddle"
   ]
  },
  {
   "cell_type": "code",
   "execution_count": 11,
   "metadata": {},
   "outputs": [],
   "source": [
    "exdate = Straddle.exdate.iloc[0]\n",
    "Time_to_maturity = int(businessDuration(trading_day,exdate,unit = 'day'))\n",
    "Dow_imvol = 0.5 * C_Dow_26_30.loc[trading_day].impl_volatility + 0.5 * P_Dow_26_30.loc[trading_day].impl_volatility\n",
    "C_Position_Dow = C_Dow_26_30.loc[[trading_day]][['best_bid','delta','gamma','vega','theta']]\n",
    "P_Position_Dow = P_Dow_26_30.loc[[trading_day]][['best_bid','delta','gamma','vega','theta']]"
   ]
  },
  {
   "cell_type": "code",
   "execution_count": 12,
   "metadata": {},
   "outputs": [],
   "source": [
    "K_Dow = C_Dow_26_30.loc[trading_day].strike_price/1000"
   ]
  },
  {
   "cell_type": "code",
   "execution_count": 13,
   "metadata": {
    "scrolled": true
   },
   "outputs": [
    {
     "data": {
      "text/html": [
       "<div>\n",
       "<style scoped>\n",
       "    .dataframe tbody tr th:only-of-type {\n",
       "        vertical-align: middle;\n",
       "    }\n",
       "\n",
       "    .dataframe tbody tr th {\n",
       "        vertical-align: top;\n",
       "    }\n",
       "\n",
       "    .dataframe thead th {\n",
       "        text-align: right;\n",
       "    }\n",
       "</style>\n",
       "<table border=\"1\" class=\"dataframe\">\n",
       "  <thead>\n",
       "    <tr style=\"text-align: right;\">\n",
       "      <th></th>\n",
       "      <th>exdate</th>\n",
       "      <th>best_bid</th>\n",
       "      <th>delta</th>\n",
       "      <th>gamma</th>\n",
       "      <th>vega</th>\n",
       "      <th>theta</th>\n",
       "    </tr>\n",
       "    <tr>\n",
       "      <th>date</th>\n",
       "      <th></th>\n",
       "      <th></th>\n",
       "      <th></th>\n",
       "      <th></th>\n",
       "      <th></th>\n",
       "      <th></th>\n",
       "    </tr>\n",
       "  </thead>\n",
       "  <tbody>\n",
       "    <tr>\n",
       "      <th>2019-06-19</th>\n",
       "      <td>2019-07-19</td>\n",
       "      <td>7.3</td>\n",
       "      <td>0.015745</td>\n",
       "      <td>0.08382</td>\n",
       "      <td>59.47704</td>\n",
       "      <td>-47.63446</td>\n",
       "    </tr>\n",
       "  </tbody>\n",
       "</table>\n",
       "</div>"
      ],
      "text/plain": [
       "               exdate  best_bid     delta    gamma      vega     theta\n",
       "date                                                                  \n",
       "2019-06-19 2019-07-19       7.3  0.015745  0.08382  59.47704 -47.63446"
      ]
     },
     "execution_count": 13,
     "metadata": {},
     "output_type": "execute_result"
    }
   ],
   "source": [
    "Straddle_Dow = C_Position_Dow + P_Position_Dow\n",
    "Straddle_Dow['exdate'] = C_Dow_26_30.exdate.iloc[0]\n",
    "Straddle_Dow = Straddle_Dow[[Straddle_Dow.columns[-1]] + list(Straddle_Dow.columns[:-1])]\n",
    "Straddle_Dow "
   ]
  },
  {
   "cell_type": "code",
   "execution_count": 14,
   "metadata": {
    "scrolled": true
   },
   "outputs": [
    {
     "data": {
      "text/plain": [
       "1.2342904665398693"
      ]
     },
     "execution_count": 14,
     "metadata": {},
     "output_type": "execute_result"
    }
   ],
   "source": [
    "theta_multiple = Straddle_Dow.loc[trading_day].theta / Straddle.loc[trading_day].theta \n",
    "vega_multiple = Straddle_Dow.loc[trading_day].vega / Straddle.loc[trading_day].vega \n",
    "\n",
    "initial_value = theta_multiple * Straddle.best_offer - Straddle_Dow.best_bid\n",
    "initial_value2 = vega_multiple * Straddle.best_offer - Straddle_Dow.best_bid\n",
    "theta_multiple"
   ]
  },
  {
   "cell_type": "code",
   "execution_count": 15,
   "metadata": {},
   "outputs": [
    {
     "data": {
      "text/html": [
       "<div>\n",
       "<style scoped>\n",
       "    .dataframe tbody tr th:only-of-type {\n",
       "        vertical-align: middle;\n",
       "    }\n",
       "\n",
       "    .dataframe tbody tr th {\n",
       "        vertical-align: top;\n",
       "    }\n",
       "\n",
       "    .dataframe thead th {\n",
       "        text-align: right;\n",
       "    }\n",
       "</style>\n",
       "<table border=\"1\" class=\"dataframe\">\n",
       "  <thead>\n",
       "    <tr style=\"text-align: right;\">\n",
       "      <th></th>\n",
       "      <th>price</th>\n",
       "      <th>delta</th>\n",
       "      <th>gamma</th>\n",
       "      <th>vega</th>\n",
       "      <th>theta</th>\n",
       "    </tr>\n",
       "  </thead>\n",
       "  <tbody>\n",
       "    <tr>\n",
       "      <th>2019-06-19</th>\n",
       "      <td>5.948356</td>\n",
       "      <td>0.188259</td>\n",
       "      <td>0.193992</td>\n",
       "      <td>0.0</td>\n",
       "      <td>-29.603445</td>\n",
       "    </tr>\n",
       "  </tbody>\n",
       "</table>\n",
       "</div>"
      ],
      "text/plain": [
       "               price     delta     gamma  vega      theta\n",
       "2019-06-19  5.948356  0.188259  0.193992   0.0 -29.603445"
      ]
     },
     "execution_count": 15,
     "metadata": {},
     "output_type": "execute_result"
    }
   ],
   "source": [
    "Vega_neutral_position = Straddle[Straddle.columns[1:]].rename(columns = {'best_offer' : 'price'}) * vega_multiple - Straddle_Dow[Straddle_Dow.columns[1:]].rename(columns = {'best_bid':'price'})\n",
    "Theta_neutral_position = Straddle[Straddle.columns[1:]].rename(columns = {'best_offer' : 'price'}) * theta_multiple - Straddle_Dow[Straddle_Dow.columns[1:]].rename(columns = {'best_bid':'price'})\n",
    "Vega_neutral_position"
   ]
  },
  {
   "cell_type": "code",
   "execution_count": 16,
   "metadata": {},
   "outputs": [
    {
     "data": {
      "text/html": [
       "<div>\n",
       "<style scoped>\n",
       "    .dataframe tbody tr th:only-of-type {\n",
       "        vertical-align: middle;\n",
       "    }\n",
       "\n",
       "    .dataframe tbody tr th {\n",
       "        vertical-align: top;\n",
       "    }\n",
       "\n",
       "    .dataframe thead th {\n",
       "        text-align: right;\n",
       "    }\n",
       "</style>\n",
       "<table border=\"1\" class=\"dataframe\">\n",
       "  <thead>\n",
       "    <tr style=\"text-align: right;\">\n",
       "      <th></th>\n",
       "      <th>price</th>\n",
       "      <th>delta</th>\n",
       "      <th>gamma</th>\n",
       "      <th>vega</th>\n",
       "      <th>theta</th>\n",
       "    </tr>\n",
       "  </thead>\n",
       "  <tbody>\n",
       "    <tr>\n",
       "      <th>2019-06-19</th>\n",
       "      <td>0.870577</td>\n",
       "      <td>0.110069</td>\n",
       "      <td>0.087513</td>\n",
       "      <td>-22.796129</td>\n",
       "      <td>0.0</td>\n",
       "    </tr>\n",
       "  </tbody>\n",
       "</table>\n",
       "</div>"
      ],
      "text/plain": [
       "               price     delta     gamma       vega  theta\n",
       "2019-06-19  0.870577  0.110069  0.087513 -22.796129    0.0"
      ]
     },
     "execution_count": 16,
     "metadata": {},
     "output_type": "execute_result"
    }
   ],
   "source": [
    "Theta_neutral_position"
   ]
  },
  {
   "cell_type": "markdown",
   "metadata": {},
   "source": [
    " # Continuous Dividend Yield"
   ]
  },
  {
   "cell_type": "code",
   "execution_count": 17,
   "metadata": {},
   "outputs": [],
   "source": [
    "drange = pd.bdate_range(trading_day, exdate)\n",
    "Div_matrix = pd.DataFrame([], columns= Ticker, index = drange)\n",
    "Time_to_div= []\n",
    "for i in Ticker :    \n",
    "    if Div_Stock[Div_Stock.TICKER == i].set_index('date').index[-1] in drange :\n",
    "        Div_Date = Div_Stock[Div_Stock.TICKER == i].set_index('date').index[-1]\n",
    "        Div_Before_Date = pd.bdate_range(trading_day, Div_Date)[-2]\n",
    "        Time_to_div.append(businessDuration(trading_day, Div_Date, unit = 'day'))\n",
    "        Div_matrix[i].loc[Div_Before_Date] = Div_Stock[Div_Stock.TICKER == i].set_index('date').loc[Div_Date].DIVAMT    \n",
    "    else :\n",
    "        Time_to_div.append(np.nan)"
   ]
  },
  {
   "cell_type": "code",
   "execution_count": 18,
   "metadata": {},
   "outputs": [],
   "source": [
    "Ann_Div_rate = np.array(Div_matrix.sum(0)/Stock_price.loc[trading_day]) * (Total_Businessday / np.array(Time_to_div))\n",
    "DeltaTime = np.arange(1,Time_to_maturity+1,1).reshape(-1,1)"
   ]
  },
  {
   "cell_type": "code",
   "execution_count": 19,
   "metadata": {},
   "outputs": [],
   "source": [
    "Temp_array = np.array(Div_matrix.fillna(method = 'bfill').iloc[:-1]>0)\n",
    "Temp_2 = (Temp_array * (Ann_Div_rate * DeltaTime/np.array(Time_to_div).reshape(1,-1)))"
   ]
  },
  {
   "cell_type": "code",
   "execution_count": 20,
   "metadata": {
    "scrolled": true
   },
   "outputs": [
    {
     "data": {
      "text/html": [
       "<div>\n",
       "<style scoped>\n",
       "    .dataframe tbody tr th:only-of-type {\n",
       "        vertical-align: middle;\n",
       "    }\n",
       "\n",
       "    .dataframe tbody tr th {\n",
       "        vertical-align: top;\n",
       "    }\n",
       "\n",
       "    .dataframe thead th {\n",
       "        text-align: right;\n",
       "    }\n",
       "</style>\n",
       "<table border=\"1\" class=\"dataframe\">\n",
       "  <thead>\n",
       "    <tr style=\"text-align: right;\">\n",
       "      <th></th>\n",
       "      <th>AAPL</th>\n",
       "      <th>AXP</th>\n",
       "      <th>BA</th>\n",
       "      <th>CAT</th>\n",
       "      <th>CSCO</th>\n",
       "      <th>CVX</th>\n",
       "      <th>DIS</th>\n",
       "      <th>GS</th>\n",
       "      <th>HD</th>\n",
       "      <th>IBM</th>\n",
       "      <th>...</th>\n",
       "      <th>PFE</th>\n",
       "      <th>PG</th>\n",
       "      <th>TRV</th>\n",
       "      <th>UNH</th>\n",
       "      <th>UTX</th>\n",
       "      <th>V</th>\n",
       "      <th>VZ</th>\n",
       "      <th>WBA</th>\n",
       "      <th>WMT</th>\n",
       "      <th>XOM</th>\n",
       "    </tr>\n",
       "  </thead>\n",
       "  <tbody>\n",
       "    <tr>\n",
       "      <th>2019-06-19</th>\n",
       "      <td>0.0</td>\n",
       "      <td>0.008195</td>\n",
       "      <td>0.0</td>\n",
       "      <td>0.004269</td>\n",
       "      <td>0.016337</td>\n",
       "      <td>0.0</td>\n",
       "      <td>0.011362</td>\n",
       "      <td>0.0</td>\n",
       "      <td>0.0</td>\n",
       "      <td>0.0</td>\n",
       "      <td>...</td>\n",
       "      <td>0.0</td>\n",
       "      <td>0.004013</td>\n",
       "      <td>0.0</td>\n",
       "      <td>0.0</td>\n",
       "      <td>0.0</td>\n",
       "      <td>0.0</td>\n",
       "      <td>0.013975</td>\n",
       "      <td>0.0</td>\n",
       "      <td>0.0</td>\n",
       "      <td>0.0</td>\n",
       "    </tr>\n",
       "    <tr>\n",
       "      <th>2019-06-25</th>\n",
       "      <td>0.0</td>\n",
       "      <td>0.040977</td>\n",
       "      <td>0.0</td>\n",
       "      <td>0.021345</td>\n",
       "      <td>0.081685</td>\n",
       "      <td>0.0</td>\n",
       "      <td>0.056809</td>\n",
       "      <td>0.0</td>\n",
       "      <td>0.0</td>\n",
       "      <td>0.0</td>\n",
       "      <td>...</td>\n",
       "      <td>0.0</td>\n",
       "      <td>0.020066</td>\n",
       "      <td>0.0</td>\n",
       "      <td>0.0</td>\n",
       "      <td>0.0</td>\n",
       "      <td>0.0</td>\n",
       "      <td>0.069875</td>\n",
       "      <td>0.0</td>\n",
       "      <td>0.0</td>\n",
       "      <td>0.0</td>\n",
       "    </tr>\n",
       "    <tr>\n",
       "      <th>2019-07-01</th>\n",
       "      <td>0.0</td>\n",
       "      <td>0.073758</td>\n",
       "      <td>0.0</td>\n",
       "      <td>0.038420</td>\n",
       "      <td>0.147034</td>\n",
       "      <td>0.0</td>\n",
       "      <td>0.102257</td>\n",
       "      <td>0.0</td>\n",
       "      <td>0.0</td>\n",
       "      <td>0.0</td>\n",
       "      <td>...</td>\n",
       "      <td>0.0</td>\n",
       "      <td>0.036119</td>\n",
       "      <td>0.0</td>\n",
       "      <td>0.0</td>\n",
       "      <td>0.0</td>\n",
       "      <td>0.0</td>\n",
       "      <td>0.125776</td>\n",
       "      <td>0.0</td>\n",
       "      <td>0.0</td>\n",
       "      <td>0.0</td>\n",
       "    </tr>\n",
       "    <tr>\n",
       "      <th>2019-07-05</th>\n",
       "      <td>0.0</td>\n",
       "      <td>0.000000</td>\n",
       "      <td>0.0</td>\n",
       "      <td>0.055496</td>\n",
       "      <td>0.000000</td>\n",
       "      <td>0.0</td>\n",
       "      <td>0.000000</td>\n",
       "      <td>0.0</td>\n",
       "      <td>0.0</td>\n",
       "      <td>0.0</td>\n",
       "      <td>...</td>\n",
       "      <td>0.0</td>\n",
       "      <td>0.052172</td>\n",
       "      <td>0.0</td>\n",
       "      <td>0.0</td>\n",
       "      <td>0.0</td>\n",
       "      <td>0.0</td>\n",
       "      <td>0.181676</td>\n",
       "      <td>0.0</td>\n",
       "      <td>0.0</td>\n",
       "      <td>0.0</td>\n",
       "    </tr>\n",
       "    <tr>\n",
       "      <th>2019-07-11</th>\n",
       "      <td>0.0</td>\n",
       "      <td>0.000000</td>\n",
       "      <td>0.0</td>\n",
       "      <td>0.072571</td>\n",
       "      <td>0.000000</td>\n",
       "      <td>0.0</td>\n",
       "      <td>0.000000</td>\n",
       "      <td>0.0</td>\n",
       "      <td>0.0</td>\n",
       "      <td>0.0</td>\n",
       "      <td>...</td>\n",
       "      <td>0.0</td>\n",
       "      <td>0.068225</td>\n",
       "      <td>0.0</td>\n",
       "      <td>0.0</td>\n",
       "      <td>0.0</td>\n",
       "      <td>0.0</td>\n",
       "      <td>0.000000</td>\n",
       "      <td>0.0</td>\n",
       "      <td>0.0</td>\n",
       "      <td>0.0</td>\n",
       "    </tr>\n",
       "    <tr>\n",
       "      <th>2019-07-17</th>\n",
       "      <td>0.0</td>\n",
       "      <td>0.000000</td>\n",
       "      <td>0.0</td>\n",
       "      <td>0.089647</td>\n",
       "      <td>0.000000</td>\n",
       "      <td>0.0</td>\n",
       "      <td>0.000000</td>\n",
       "      <td>0.0</td>\n",
       "      <td>0.0</td>\n",
       "      <td>0.0</td>\n",
       "      <td>...</td>\n",
       "      <td>0.0</td>\n",
       "      <td>0.084278</td>\n",
       "      <td>0.0</td>\n",
       "      <td>0.0</td>\n",
       "      <td>0.0</td>\n",
       "      <td>0.0</td>\n",
       "      <td>0.000000</td>\n",
       "      <td>0.0</td>\n",
       "      <td>0.0</td>\n",
       "      <td>0.0</td>\n",
       "    </tr>\n",
       "  </tbody>\n",
       "</table>\n",
       "<p>6 rows × 29 columns</p>\n",
       "</div>"
      ],
      "text/plain": [
       "            AAPL       AXP   BA       CAT      CSCO  CVX       DIS   GS   HD  \\\n",
       "2019-06-19   0.0  0.008195  0.0  0.004269  0.016337  0.0  0.011362  0.0  0.0   \n",
       "2019-06-25   0.0  0.040977  0.0  0.021345  0.081685  0.0  0.056809  0.0  0.0   \n",
       "2019-07-01   0.0  0.073758  0.0  0.038420  0.147034  0.0  0.102257  0.0  0.0   \n",
       "2019-07-05   0.0  0.000000  0.0  0.055496  0.000000  0.0  0.000000  0.0  0.0   \n",
       "2019-07-11   0.0  0.000000  0.0  0.072571  0.000000  0.0  0.000000  0.0  0.0   \n",
       "2019-07-17   0.0  0.000000  0.0  0.089647  0.000000  0.0  0.000000  0.0  0.0   \n",
       "\n",
       "            IBM  ...  PFE        PG  TRV  UNH  UTX    V        VZ  WBA  WMT  \\\n",
       "2019-06-19  0.0  ...  0.0  0.004013  0.0  0.0  0.0  0.0  0.013975  0.0  0.0   \n",
       "2019-06-25  0.0  ...  0.0  0.020066  0.0  0.0  0.0  0.0  0.069875  0.0  0.0   \n",
       "2019-07-01  0.0  ...  0.0  0.036119  0.0  0.0  0.0  0.0  0.125776  0.0  0.0   \n",
       "2019-07-05  0.0  ...  0.0  0.052172  0.0  0.0  0.0  0.0  0.181676  0.0  0.0   \n",
       "2019-07-11  0.0  ...  0.0  0.068225  0.0  0.0  0.0  0.0  0.000000  0.0  0.0   \n",
       "2019-07-17  0.0  ...  0.0  0.084278  0.0  0.0  0.0  0.0  0.000000  0.0  0.0   \n",
       "\n",
       "            XOM  \n",
       "2019-06-19  0.0  \n",
       "2019-06-25  0.0  \n",
       "2019-07-01  0.0  \n",
       "2019-07-05  0.0  \n",
       "2019-07-11  0.0  \n",
       "2019-07-17  0.0  \n",
       "\n",
       "[6 rows x 29 columns]"
      ]
     },
     "execution_count": 20,
     "metadata": {},
     "output_type": "execute_result"
    }
   ],
   "source": [
    "con_div_yield = pd.DataFrame(np.concatenate([Temp_2, np.zeros((1,Temp_array.shape[1]))], axis = 0) , index = drange , columns = Ticker).fillna(0)\n",
    "con_div_yield.iloc[::4]"
   ]
  },
  {
   "cell_type": "markdown",
   "metadata": {},
   "source": [
    " ### Dow Div Rate"
   ]
  },
  {
   "cell_type": "code",
   "execution_count": 21,
   "metadata": {},
   "outputs": [],
   "source": [
    "Div_Amount = Div_DJX['div'].sort_index()[trading_day:exdate].sum(0)\n",
    "Div_Date = Div_DJX.sort_index()[trading_day:exdate].index[-1]\n",
    "Div_Before_Date = pd.bdate_range(trading_day , Div_Date)[-2]\n",
    "Time_to_div_Dow = businessDuration(trading_day, Div_Date, unit = 'day')"
   ]
  },
  {
   "cell_type": "code",
   "execution_count": 22,
   "metadata": {},
   "outputs": [],
   "source": [
    "Ann_Div_rate = Div_Amount / Dow_price.Close.loc[trading_day] * (Total_Businessday/Time_to_div_Dow)"
   ]
  },
  {
   "cell_type": "code",
   "execution_count": 23,
   "metadata": {},
   "outputs": [],
   "source": [
    "Temp_data = pd.DataFrame([], columns=  ['Dow_Div'],index = drange)\n",
    "Temp_data.Dow_Div.loc[Div_Before_Date] = 1\n",
    "Temp_data = Temp_data.fillna(method = 'bfill')"
   ]
  },
  {
   "cell_type": "code",
   "execution_count": 24,
   "metadata": {},
   "outputs": [
    {
     "data": {
      "text/html": [
       "<div>\n",
       "<style scoped>\n",
       "    .dataframe tbody tr th:only-of-type {\n",
       "        vertical-align: middle;\n",
       "    }\n",
       "\n",
       "    .dataframe tbody tr th {\n",
       "        vertical-align: top;\n",
       "    }\n",
       "\n",
       "    .dataframe thead th {\n",
       "        text-align: right;\n",
       "    }\n",
       "</style>\n",
       "<table border=\"1\" class=\"dataframe\">\n",
       "  <thead>\n",
       "    <tr style=\"text-align: right;\">\n",
       "      <th></th>\n",
       "      <th>Dow_Div</th>\n",
       "    </tr>\n",
       "  </thead>\n",
       "  <tbody>\n",
       "    <tr>\n",
       "      <th>2019-06-19</th>\n",
       "      <td>0.001756</td>\n",
       "    </tr>\n",
       "    <tr>\n",
       "      <th>2019-06-20</th>\n",
       "      <td>0.003513</td>\n",
       "    </tr>\n",
       "    <tr>\n",
       "      <th>2019-06-21</th>\n",
       "      <td>0.005269</td>\n",
       "    </tr>\n",
       "    <tr>\n",
       "      <th>2019-06-24</th>\n",
       "      <td>0.007026</td>\n",
       "    </tr>\n",
       "  </tbody>\n",
       "</table>\n",
       "</div>"
      ],
      "text/plain": [
       "             Dow_Div\n",
       "2019-06-19  0.001756\n",
       "2019-06-20  0.003513\n",
       "2019-06-21  0.005269\n",
       "2019-06-24  0.007026"
      ]
     },
     "execution_count": 24,
     "metadata": {},
     "output_type": "execute_result"
    }
   ],
   "source": [
    "Dow_Div_rate = pd.DataFrame(Ann_Div_rate * np.array(Temp_data) *np.arange(1,len(Temp_data)+1,1).reshape(-1,1) / Time_to_div_Dow, index = Temp_data.index, columns = Temp_data.columns).fillna(0)\n",
    "Dow_Div_rate.head(4)"
   ]
  },
  {
   "cell_type": "markdown",
   "metadata": {},
   "source": [
    " # Garch Fit example"
   ]
  },
  {
   "cell_type": "code",
   "execution_count": 25,
   "metadata": {},
   "outputs": [],
   "source": [
    "ret = np.array(np.log(Stock_price[Ticker[0]]).diff().iloc[1:])\n",
    "alpha = 0.02\n",
    "beta = 0.95\n",
    "long_run_vol = 0.01\n",
    "vol_0 = 0.01\n",
    "x = np.array([alpha, beta,long_run_vol, vol_0])"
   ]
  },
  {
   "cell_type": "code",
   "execution_count": 26,
   "metadata": {},
   "outputs": [],
   "source": [
    "def objfun(x, ret) :\n",
    "    a = x[0] # alpha\n",
    "    b = x[1] # beta \n",
    "    w = (1-a-b)*(x[2]**2) \n",
    "    var1 = w + a * ret[0]**2 + b * x[3]**2\n",
    "    var = np.array([var1])\n",
    "    for i in range(1,len(ret)) :\n",
    "        var_i = w + a * ret[i] ** 2 + b * var[i-1]\n",
    "        var = np.concatenate([var,np.array([var_i])])\n",
    "    var_t = np.concatenate([[x[3]**2],var[:-1]])\n",
    "    return (np.log(var_t) + (ret**2/var_t) ).sum()"
   ]
  },
  {
   "cell_type": "code",
   "execution_count": 27,
   "metadata": {},
   "outputs": [
    {
     "data": {
      "text/plain": [
       "     fun: -1857.7950294583752\n",
       "     jac: array([ 0.06622314,  0.01358032, -0.20549011, -0.38394165])\n",
       " message: 'Optimization terminated successfully.'\n",
       "    nfev: 123\n",
       "     nit: 18\n",
       "    njev: 18\n",
       "  status: 0\n",
       " success: True\n",
       "       x: array([0.06174891, 0.91188257, 0.0203445 , 0.00878165])"
      ]
     },
     "execution_count": 27,
     "metadata": {},
     "output_type": "execute_result"
    }
   ],
   "source": [
    "cons = ({'type':'ineq', 'fun':lambda x : -x[0]-x[1]+1})\n",
    "bnds = ((0.01,0.3), (0.7,0.999), (0.001,0.03), (0.001,0.03))\n",
    "x0 = (0.08,0.85,0.01,0.01)\n",
    "res = minimize(objfun, x0, method = 'SLSQP', bounds = bnds, constraints = cons, args= (ret))\n",
    "res"
   ]
  },
  {
   "cell_type": "markdown",
   "metadata": {},
   "source": [
    " # Garch Fitting All Stock Return"
   ]
  },
  {
   "cell_type": "code",
   "execution_count": 28,
   "metadata": {},
   "outputs": [
    {
     "name": "stdout",
     "output_type": "stream",
     "text": [
      "AAPL optimize_sucess =  True\n",
      "AXP optimize_sucess =  True\n"
     ]
    },
    {
     "name": "stderr",
     "output_type": "stream",
     "text": [
      "C:\\Users\\LIMDAESUN\\anaconda3\\lib\\site-packages\\ipykernel_launcher.py:11: RuntimeWarning: invalid value encountered in log\n",
      "  # This is added back by InteractiveShellApp.init_path()\n"
     ]
    },
    {
     "name": "stdout",
     "output_type": "stream",
     "text": [
      "BA optimize_sucess =  True\n",
      "CAT optimize_sucess =  True\n",
      "CSCO optimize_sucess =  True\n",
      "CVX optimize_sucess =  True\n",
      "DIS optimize_sucess =  True\n",
      "GS optimize_sucess =  True\n",
      "HD optimize_sucess =  True\n",
      "IBM optimize_sucess =  True\n",
      "INTC optimize_sucess =  True\n",
      "JNJ optimize_sucess =  True\n",
      "JPM optimize_sucess =  True\n",
      "KO optimize_sucess =  True\n",
      "MCD optimize_sucess =  True\n",
      "MMM optimize_sucess =  True\n",
      "MRK optimize_sucess =  True\n",
      "MSFT optimize_sucess =  True\n",
      "NKE optimize_sucess =  True\n",
      "PFE optimize_sucess =  True\n",
      "PG optimize_sucess =  True\n",
      "TRV optimize_sucess =  True\n",
      "UNH optimize_sucess =  True\n",
      "UTX optimize_sucess =  True\n",
      "V optimize_sucess =  True\n",
      "VZ optimize_sucess =  True\n",
      "WBA optimize_sucess =  True\n",
      "WMT optimize_sucess =  True\n",
      "XOM optimize_sucess =  True\n"
     ]
    }
   ],
   "source": [
    "dic = {}\n",
    "for i in Ticker :\n",
    "    ret = np.array(np.log(Stock_price[i]).diff().iloc[1:])\n",
    "    res = minimize(objfun, x0, method = 'SLSQP', bounds = bnds , constraints=cons, args = ret)\n",
    "    dic[i] = res.x\n",
    "    print(i,'optimize_sucess = ',res.success) # Optimize Success ? or Failed?\n",
    "ret_index = np.array(np.log(Dow_price.Close).diff().iloc[1:])\n",
    "index_res = minimize(objfun, x0, method = 'SLSQP', bounds = bnds , constraints=cons, args = ret_index)\n",
    "index_x = index_res.x"
   ]
  },
  {
   "cell_type": "code",
   "execution_count": 29,
   "metadata": {},
   "outputs": [
    {
     "data": {
      "text/html": [
       "<div>\n",
       "<style scoped>\n",
       "    .dataframe tbody tr th:only-of-type {\n",
       "        vertical-align: middle;\n",
       "    }\n",
       "\n",
       "    .dataframe tbody tr th {\n",
       "        vertical-align: top;\n",
       "    }\n",
       "\n",
       "    .dataframe thead th {\n",
       "        text-align: right;\n",
       "    }\n",
       "</style>\n",
       "<table border=\"1\" class=\"dataframe\">\n",
       "  <thead>\n",
       "    <tr style=\"text-align: right;\">\n",
       "      <th></th>\n",
       "      <th>AAPL</th>\n",
       "      <th>AXP</th>\n",
       "      <th>BA</th>\n",
       "      <th>CAT</th>\n",
       "      <th>CSCO</th>\n",
       "      <th>CVX</th>\n",
       "      <th>DIS</th>\n",
       "      <th>GS</th>\n",
       "      <th>HD</th>\n",
       "      <th>IBM</th>\n",
       "      <th>...</th>\n",
       "      <th>PFE</th>\n",
       "      <th>PG</th>\n",
       "      <th>TRV</th>\n",
       "      <th>UNH</th>\n",
       "      <th>UTX</th>\n",
       "      <th>V</th>\n",
       "      <th>VZ</th>\n",
       "      <th>WBA</th>\n",
       "      <th>WMT</th>\n",
       "      <th>XOM</th>\n",
       "    </tr>\n",
       "  </thead>\n",
       "  <tbody>\n",
       "    <tr>\n",
       "      <th>Alpha</th>\n",
       "      <td>0.061749</td>\n",
       "      <td>0.106350</td>\n",
       "      <td>0.015729</td>\n",
       "      <td>0.082257</td>\n",
       "      <td>0.192962</td>\n",
       "      <td>0.025963</td>\n",
       "      <td>0.031097</td>\n",
       "      <td>0.038826</td>\n",
       "      <td>0.073506</td>\n",
       "      <td>0.075095</td>\n",
       "      <td>...</td>\n",
       "      <td>0.129905</td>\n",
       "      <td>0.213064</td>\n",
       "      <td>0.157638</td>\n",
       "      <td>0.026840</td>\n",
       "      <td>0.077026</td>\n",
       "      <td>0.238147</td>\n",
       "      <td>0.088413</td>\n",
       "      <td>0.010000</td>\n",
       "      <td>0.102372</td>\n",
       "      <td>0.146219</td>\n",
       "    </tr>\n",
       "    <tr>\n",
       "      <th>Beta</th>\n",
       "      <td>0.911883</td>\n",
       "      <td>0.843472</td>\n",
       "      <td>0.969587</td>\n",
       "      <td>0.879357</td>\n",
       "      <td>0.748213</td>\n",
       "      <td>0.904347</td>\n",
       "      <td>0.700000</td>\n",
       "      <td>0.948827</td>\n",
       "      <td>0.919414</td>\n",
       "      <td>0.899473</td>\n",
       "      <td>...</td>\n",
       "      <td>0.828991</td>\n",
       "      <td>0.700000</td>\n",
       "      <td>0.715585</td>\n",
       "      <td>0.964298</td>\n",
       "      <td>0.889650</td>\n",
       "      <td>0.700000</td>\n",
       "      <td>0.700000</td>\n",
       "      <td>0.778646</td>\n",
       "      <td>0.700000</td>\n",
       "      <td>0.700000</td>\n",
       "    </tr>\n",
       "    <tr>\n",
       "      <th>LongVol</th>\n",
       "      <td>0.020344</td>\n",
       "      <td>0.012427</td>\n",
       "      <td>0.020467</td>\n",
       "      <td>0.021145</td>\n",
       "      <td>0.016879</td>\n",
       "      <td>0.013767</td>\n",
       "      <td>0.014013</td>\n",
       "      <td>0.018643</td>\n",
       "      <td>0.015587</td>\n",
       "      <td>0.016787</td>\n",
       "      <td>...</td>\n",
       "      <td>0.012709</td>\n",
       "      <td>0.013875</td>\n",
       "      <td>0.011088</td>\n",
       "      <td>0.017737</td>\n",
       "      <td>0.015794</td>\n",
       "      <td>0.016112</td>\n",
       "      <td>0.012108</td>\n",
       "      <td>0.018226</td>\n",
       "      <td>0.012200</td>\n",
       "      <td>0.012081</td>\n",
       "    </tr>\n",
       "    <tr>\n",
       "      <th>Vol0</th>\n",
       "      <td>0.008782</td>\n",
       "      <td>0.008116</td>\n",
       "      <td>0.012442</td>\n",
       "      <td>0.010902</td>\n",
       "      <td>0.013589</td>\n",
       "      <td>0.011707</td>\n",
       "      <td>0.001111</td>\n",
       "      <td>0.007621</td>\n",
       "      <td>0.008851</td>\n",
       "      <td>0.004397</td>\n",
       "      <td>...</td>\n",
       "      <td>0.005426</td>\n",
       "      <td>0.007218</td>\n",
       "      <td>0.004811</td>\n",
       "      <td>0.006829</td>\n",
       "      <td>0.005011</td>\n",
       "      <td>0.013062</td>\n",
       "      <td>0.002716</td>\n",
       "      <td>0.006218</td>\n",
       "      <td>0.015478</td>\n",
       "      <td>0.008761</td>\n",
       "    </tr>\n",
       "  </tbody>\n",
       "</table>\n",
       "<p>4 rows × 29 columns</p>\n",
       "</div>"
      ],
      "text/plain": [
       "             AAPL       AXP        BA       CAT      CSCO       CVX       DIS  \\\n",
       "Alpha    0.061749  0.106350  0.015729  0.082257  0.192962  0.025963  0.031097   \n",
       "Beta     0.911883  0.843472  0.969587  0.879357  0.748213  0.904347  0.700000   \n",
       "LongVol  0.020344  0.012427  0.020467  0.021145  0.016879  0.013767  0.014013   \n",
       "Vol0     0.008782  0.008116  0.012442  0.010902  0.013589  0.011707  0.001111   \n",
       "\n",
       "               GS        HD       IBM  ...       PFE        PG       TRV  \\\n",
       "Alpha    0.038826  0.073506  0.075095  ...  0.129905  0.213064  0.157638   \n",
       "Beta     0.948827  0.919414  0.899473  ...  0.828991  0.700000  0.715585   \n",
       "LongVol  0.018643  0.015587  0.016787  ...  0.012709  0.013875  0.011088   \n",
       "Vol0     0.007621  0.008851  0.004397  ...  0.005426  0.007218  0.004811   \n",
       "\n",
       "              UNH       UTX         V        VZ       WBA       WMT       XOM  \n",
       "Alpha    0.026840  0.077026  0.238147  0.088413  0.010000  0.102372  0.146219  \n",
       "Beta     0.964298  0.889650  0.700000  0.700000  0.778646  0.700000  0.700000  \n",
       "LongVol  0.017737  0.015794  0.016112  0.012108  0.018226  0.012200  0.012081  \n",
       "Vol0     0.006829  0.005011  0.013062  0.002716  0.006218  0.015478  0.008761  \n",
       "\n",
       "[4 rows x 29 columns]"
      ]
     },
     "execution_count": 29,
     "metadata": {},
     "output_type": "execute_result"
    }
   ],
   "source": [
    "params = pd.DataFrame(dic, index = ['Alpha','Beta','LongVol','Vol0'])\n",
    "params"
   ]
  },
  {
   "cell_type": "code",
   "execution_count": 30,
   "metadata": {},
   "outputs": [],
   "source": [
    "Para = np.array(params)\n",
    "S_ret = np.array(Stock_return)"
   ]
  },
  {
   "cell_type": "markdown",
   "metadata": {},
   "source": [
    " # Call Put Option Price"
   ]
  },
  {
   "cell_type": "code",
   "execution_count": 31,
   "metadata": {},
   "outputs": [],
   "source": [
    "class Risk_neutral_u_d_p :\n",
    "    def no_dividends(sigma, T, N , Model = 'CRR', r= 0) :\n",
    "        dt = T/N\n",
    "        if Model.lower() == 'crr' :\n",
    "            u = np.exp( sigma * np.sqrt(dt))\n",
    "            d = 1/u\n",
    "            \n",
    "        elif Model.lower() == 'normal' :\n",
    "            u = np.exp( r*dt + sigma * np.sqrt(dt))\n",
    "            d = np.exp( r*dt - sigma * np.sqrt(dt))        \n",
    "\n",
    "        else :\n",
    "            u = np.exp( (r-0.5*sigma**2)*dt + sigma * np.sqrt(dt))\n",
    "            d = np.exp( (r-0.5*sigma**2)*dt - sigma * np.sqrt(dt))\n",
    "\n",
    "        p = (np.exp(r*dt)-d)/(u-d)\n",
    "        return u,d,p\n",
    "            \n",
    "    def continuous_dividends(sigma, T, N, Model = 'CRR',div = 0, r=0) :\n",
    "        dt = T/N\n",
    "        if Model.lower() == 'crr' :\n",
    "            u = np.exp( sigma * np.sqrt(dt))\n",
    "            d = 1/u\n",
    "\n",
    "        elif Model.lower() == 'normal' :\n",
    "            u = np.exp( (r-div)*dt + sigma * np.sqrt(dt))\n",
    "            d = np.exp( (r-div)*dt - sigma * np.sqrt(dt))\n",
    "\n",
    "        else :\n",
    "            u = np.exp( (r-div-0.5*sigma**2)*dt + sigma * np.sqrt(dt))\n",
    "            d = np.exp( (r-div-0.5*sigma**2)*dt - sigma * np.sqrt(dt))\n",
    "            \n",
    "        p = (np.exp((r-div)*dt)-d)/(u-d)\n",
    "        \n",
    "        return u,d,p\n",
    "    \n",
    "    def Removing_nonlinearity(S,K,sigma,T,N,r , div = 0) :\n",
    "        dt = T/N\n",
    "        d1 = (np.log(S/K) + (r-div+0.5*sigma**2)*T) / (sigma * np.sqrt(T))\n",
    "        d2 = (np.log(S/K) + (r-div-0.5*sigma**2)*T) / (sigma * np.sqrt(T))\n",
    "        q_star = 0.5 + np.sign(d1) * np.sqrt( 0.25 - 0.25 * np.exp( - (d1/(N+1/3))**2 * (N+1/6)  )  ) \n",
    "        q = 0.5 + np.sign(d2) * np.sqrt( 0.25 - 0.25 * np.exp( - (d2/(N+1/3))**2 * (N+1/6)  )  ) \n",
    "        \n",
    "        u = np.exp( (r-div)*dt  ) * q_star/q\n",
    "        d = (np.exp(  (r-div)*dt ) - q*u)/(1-q)\n",
    "        p = (np.exp((r-div)*dt)-d)/(u-d)\n",
    "        return u, d, p\n",
    "    \n",
    "def make_S_tree_u_d_p(S,K,T,N,sigma,r , Model = 'CRR',div = 0 , Removing_nonlinearity = False, ) :\n",
    "    dt = T/N\n",
    "    if div>0 and Removing_nonlinearity == False :\n",
    "        u,d,p = Risk_neutral_u_d_p.continuous_dividends(sigma = sigma , T = T , N = N , Model = Model , r = r, div = div)\n",
    "    elif Removing_nonlinearity == True :\n",
    "        u,d,p = Risk_neutral_u_d_p.Removing_nonlinearity(S = S, K= K,sigma = sigma , T = T , N = N  , r = r, div = div)\n",
    "    else :\n",
    "        u,d,p = Risk_neutral_u_d_p.no_dividends(sigma = sigma , T = T , N = N , Model = Model , r = r)\n",
    "\n",
    "    Temp = np.ones((N+1,N+1))\n",
    "    Temp[:,0] = 0\n",
    "    Temp1 = Temp.cumsum(1)\n",
    "    Te = Temp.copy()\n",
    "    Te[0,:] = 0\n",
    "    \n",
    "    num_u = np.triu(Temp1 - Te.cumsum(0))\n",
    "    num_d = np.triu(Temp1 - num_u)\n",
    "    S_Tree = S * np.triu((u**num_u) * (d**num_d))\n",
    "    return u,d,p ,S_Tree\n",
    "\n",
    "class binomial_option :\n",
    "    \n",
    "    def Call(S,K,T,N,sigma,r , Model = 'CRR' , div = 0, D = 0 , Removing_nonlinearity = False) :        \n",
    "        u,d,p,S_Tree = make_S_tree_u_d_p(S,K,T,N,sigma,r , Model = Model, div= div , Removing_nonlinearity= Removing_nonlinearity)\n",
    "        \n",
    "        A = np.ones((N+1,1))\n",
    "        A[0] = 0\n",
    "        A = A.cumsum(0).astype(np.int64)\n",
    "        B = np.rot90(np.rot90(A))\n",
    "\n",
    "        C_exercise_Value = np.maximum( S_Tree - K , np.zeros(np.shape(S_Tree)))\n",
    "        C = (C_exercise_Value[:,-1:] * sts.binom.pmf(B, N, p).round(7)).sum()  *  np.exp(-r*T)\n",
    "        return C\n",
    "\n",
    "    def Call_Fixed_Div(S,K,T,N,sigma,r ,Div_payment_date ,  Model = 'CRR' , Div = 0 , Removing_nonlinearity = False) :        \n",
    "        u,d,p,S_Tree = make_S_Tree_adjDiv_u_d_p(S,K,T,N,sigma,r ,Div,Div_payment_date , Model = Model, Removing_nonlinearity= Removing_nonlinearity)\n",
    "        \n",
    "        A = np.ones((N+1,1))\n",
    "        A[0] = 0\n",
    "        A = A.cumsum(0).astype(np.int64)\n",
    "        B = np.rot90(np.rot90(A))\n",
    "\n",
    "        C_exercise_Value = np.maximum( S_Tree - K , np.zeros(np.shape(S_Tree)))\n",
    "        C = (C_exercise_Value[:,-1:] * sts.binom.pmf(B, N, p).round(7)).sum()  *  np.exp(-r*T)\n",
    "        return C    \n",
    "    \n",
    "    def Put(S,K,T,N,sigma,r , Model = 'CRR', div = 0, D = 0, Removing_nonlinearity = False) :        \n",
    "        u,d,p,S_Tree = make_S_tree_u_d_p(S,K,T,N,sigma,r , Model = Model, div = div , Removing_nonlinearity=Removing_nonlinearity)\n",
    "\n",
    "        A = np.ones((N+1,1))\n",
    "        A[0] = 0\n",
    "        A = A.cumsum(0).astype(np.int64)\n",
    "        B = np.rot90(np.rot90(A))\n",
    "\n",
    "        P_exercise_Value = np.maximum( K- S_Tree , np.zeros(np.shape(S_Tree)))\n",
    "        P = (P_exercise_Value[:,-1:] * sts.binom.pmf(B, N, p).round(7)).sum()  *  np.exp(-r*T)\n",
    "        return P\n",
    "    \n",
    "    def Tree_C(S,K,T,N,sigma,r,Model = 'CRR', div = 0, For_American = False , Removing_nonlinearity = False) :\n",
    "        u,d,p,S_Tree = make_S_tree_u_d_p(S,K,T,N,sigma,r , Model = Model,div = 0 , Removing_nonlinearity=Removing_nonlinearity)\n",
    "        A = np.ones((N+1,1))\n",
    "        A[0] = 0\n",
    "        A = A.cumsum(0).astype(np.int64)\n",
    "        B = np.rot90(np.rot90(A))        \n",
    "        C_exercise_Value = np.maximum( S_Tree - K , np.zeros(np.shape(S_Tree)))\n",
    "        Temp_array= np.zeros(S_Tree.shape)\n",
    "        dt = T/N\n",
    "        \n",
    "        if For_American == False :\n",
    "            Temp_array[:,0] = C_exercise_Value[:,-1]\n",
    "            for i in range(1,len(Temp_array)) :\n",
    "                Temp_array[:-i,i] = (Temp_array[ :-1, i-1] * p  + (1-p) * Temp_array[1:, i-1])[ :len(Temp_array) - i] * np.exp(-r * dt)        \n",
    "        else :\n",
    "            Temp_array[:,0] = C_exercise_Value[:,-1]\n",
    "            for i in range(1,len(Temp_array)) :\n",
    "                Temp_array[:-i,i] = (Temp_array[ :-1, i-1] * p  + (1-p) * Temp_array[1:, i-1])[ :len(Temp_array) - i] * np.exp(-r * dt)        \n",
    "        Option_Value_Tree = Temp_array[:,::-1]\n",
    "        return Option_Value_Tree\n",
    "    \n",
    "    def Tree_P(S,K,T,N,sigma,r,Model = 'CRR', div = 0, For_American = False , Removing_nonlinearity = False) :\n",
    "        u,d,p,S_Tree = make_S_tree_u_d_p(S = S,K = K,T = T,N = N,sigma = sigma,r = r , Model = Model,div = div , Removing_nonlinearity= Removing_nonlinearity)\n",
    "        A = np.ones((N+1,1))\n",
    "        A[0] = 0\n",
    "        A = A.cumsum(0).astype(np.int64)\n",
    "        B = np.rot90(np.rot90(A))        \n",
    "        P_exercise_Value = np.maximum(  K - S_Tree , np.zeros(np.shape(S_Tree)))\n",
    "        Temp_array= np.zeros(S_Tree.shape)\n",
    "        dt = T/N\n",
    "        \n",
    "        if For_American == False :\n",
    "            Temp_array[:,0] = P_exercise_Value[:,-1]\n",
    "            for i in range(1,len(Temp_array)) :\n",
    "                Temp_array[:-i,i] = (Temp_array[ :-1, i-1] * p  + (1-p) * Temp_array[1:, i-1])[ :len(Temp_array) - i] * np.exp(-r * dt)        \n",
    "        else :\n",
    "            Temp_array[:,0] = P_exercise_Value[:,-1]\n",
    "            for i in range(1,len(Temp_array)) :\n",
    "                Temp_array[:-i,i] = (Temp_array[ :-1, i-1] * p  + (1-p) * Temp_array[1:, i-1])[ :len(Temp_array) - i] * np.exp(-r * dt)        \n",
    "            \n",
    "        Option_Value_Tree = Temp_array[:,::-1]\n",
    "        return Option_Value_Tree\n",
    "    \n",
    "    def American_C(S,K,T,N,sigma,r,Model = 'CRR', div = 0, For_American = True , Removing_nonlinearity = False) :\n",
    "        if T == 0:\n",
    "            return max(S-K,0)\n",
    "        else :\n",
    "            return binomial_option.Tree_C(S,K,T,N,sigma,r,Model, div , For_American , Removing_nonlinearity)[0,0]\n",
    "    \n",
    "    def American_P(S,K,T,N,sigma,r,Model = 'CRR', div = 0, For_American = True , Removing_nonlinearity = False) :\n",
    "        if T == 0:\n",
    "            return max(K-S,0)\n",
    "        else :\n",
    "            return binomial_option.Tree_P(S,K,T,N,sigma,r,Model, div , For_American , Removing_nonlinearity)[0,0]\n",
    "    "
   ]
  },
  {
   "cell_type": "code",
   "execution_count": 32,
   "metadata": {},
   "outputs": [],
   "source": [
    "def BS_C(S,K,T,sigma,r,div) :\n",
    "    if T != 0 :\n",
    "        d1 = (np.log(S/K)+(r-div+0.5*sigma**2)*T)/(sigma*np.sqrt(T))\n",
    "        d2 = d1 - sigma * np.sqrt(T)\n",
    "        Nd1 = norm.cdf(d1)\n",
    "        Nd2 = norm.cdf(d2)\n",
    "        C = S * np.exp(-div * T) * Nd1 - K *np.exp(-r*T) * Nd2\n",
    "    elif T == 0 :\n",
    "        C = max(S-K,0)\n",
    "    return C\n",
    "\n",
    "def BS_P(S,K,T,sigma,r,div) :\n",
    "    if T != 0 :\n",
    "        d1 = (np.log(S/K)+(r-div+0.5*sigma**2)*T)/(sigma*np.sqrt(T))\n",
    "        d2 = d1 - sigma * np.sqrt(T)\n",
    "        Nd1 = norm.cdf(d1)\n",
    "        Nd2 = norm.cdf(d2)\n",
    "        P = K * np.exp(-r*T) * (1-Nd2) - S * np.exp(-div*T) * (1-Nd1)\n",
    "    elif T == 0 :\n",
    "        P = max(K-S,0)\n",
    "    return P"
   ]
  },
  {
   "cell_type": "markdown",
   "metadata": {},
   "source": [
    " # All Stock Vol Fitting"
   ]
  },
  {
   "cell_type": "code",
   "execution_count": 33,
   "metadata": {},
   "outputs": [],
   "source": [
    "alpha = Para[0,:]\n",
    "beta = Para[1,:]\n",
    "V_L = Para[2,:]**2\n",
    "w = (1-alpha - beta) * V_L\n",
    "V_0 = Para[3,:]**2"
   ]
  },
  {
   "cell_type": "code",
   "execution_count": 34,
   "metadata": {},
   "outputs": [],
   "source": [
    "daily_var_array = np.zeros(np.array(Stock_return).shape)\n",
    "daily_var_array[0,:] = (1-alpha-beta) * V_L + alpha * S_ret[0,:]**2 + beta * V_0\n",
    "for i in range(1,len(daily_var_array)) :\n",
    "    daily_var_array[i,:] = w + alpha * S_ret[i,:]**2 + beta * daily_var_array[i-1,:]\n",
    "Stock_daily_Vol = pd.DataFrame(np.sqrt(daily_var_array), columns = Ticker, index = Stock_return.index)"
   ]
  },
  {
   "cell_type": "code",
   "execution_count": 35,
   "metadata": {},
   "outputs": [],
   "source": [
    "def vol(x, ret) :\n",
    "    a = x[0] # alpha\n",
    "    b = x[1] # beta \n",
    "    w = (1-a-b)*(x[2]**2) \n",
    "    var1 = w + a * ret[0]**2 + b * x[3]**2\n",
    "    var = np.array([var1])\n",
    "    for i in range(1,len(ret)) :\n",
    "        var_i = w + a * ret[i] ** 2 + b * var[i-1]\n",
    "        var = np.concatenate([var,np.array([var_i])])\n",
    "    var_t = np.concatenate([[x[3]**2],var[:-1]])\n",
    "    return np.sqrt(var_t)\n",
    "index_daily_vol = pd.DataFrame(vol(index_x, ret_index) , index = Dow_price.index[1:], columns = ['index_daily_vol'])"
   ]
  },
  {
   "cell_type": "code",
   "execution_count": 36,
   "metadata": {},
   "outputs": [],
   "source": [
    "alpha_in = index_x[0]\n",
    "beta_in = index_x[1]\n",
    "V_L_in = index_x[2]**2\n",
    "w_in =(1-alpha_in-beta_in)*V_L_in\n",
    "V_0_in = ( Dow_imvol * 1/np.sqrt(Total_Businessday) ) **2"
   ]
  },
  {
   "cell_type": "markdown",
   "metadata": {},
   "source": [
    " # FHS with daily vol"
   ]
  },
  {
   "cell_type": "code",
   "execution_count": 37,
   "metadata": {},
   "outputs": [],
   "source": [
    "Z = pd.DataFrame(np.array(Stock_return)/np.array(Stock_daily_Vol) , columns = Stock_return.columns, index = Stock_return.index)\n",
    "V_0_FHS = np.array(Stock_daily_Vol.iloc[-1]) ** 2"
   ]
  },
  {
   "cell_type": "code",
   "execution_count": 38,
   "metadata": {},
   "outputs": [],
   "source": [
    "Zarray = np.array(Z.sample(Time_to_maturity, axis = 0))\n",
    "simul_return = np.zeros((Time_to_maturity,len(Ticker)))\n",
    "new_return = np.array(Stock_daily_Vol.iloc[-1]) * Zarray[0,:]\n",
    "simul_return[0,:] = new_return\n",
    "simul_vol_array = np.zeros((Time_to_maturity,len(Ticker)))\n",
    "new_var = w + alpha * new_return**2 + beta * V_0_FHS\n",
    "new_vol = np.sqrt(new_var)\n",
    "simul_vol_array[0,:] = new_vol\n",
    "for i in range(1,Time_to_maturity) :\n",
    "    new_return = simul_vol_array[i-1,:] * Zarray[i,:]\n",
    "    simul_return[i,:] = new_return\n",
    "    new_var = w + alpha * new_return **2 + beta * simul_vol_array[i-1,:]**2\n",
    "    new_vol = np.sqrt(new_var)\n",
    "    simul_vol_array[i,:] = new_vol"
   ]
  },
  {
   "cell_type": "code",
   "execution_count": 39,
   "metadata": {},
   "outputs": [],
   "source": [
    "return_simul = pd.DataFrame(simul_return, columns= Ticker, index = pd.bdate_range(trading_day, exdate )[1:])\n",
    "forecasted_vol = pd.DataFrame(simul_vol_array, columns = Ticker, index = pd.bdate_range(trading_day, exdate)[1:])"
   ]
  },
  {
   "cell_type": "code",
   "execution_count": 40,
   "metadata": {},
   "outputs": [
    {
     "data": {
      "text/html": [
       "<div>\n",
       "<style scoped>\n",
       "    .dataframe tbody tr th:only-of-type {\n",
       "        vertical-align: middle;\n",
       "    }\n",
       "\n",
       "    .dataframe tbody tr th {\n",
       "        vertical-align: top;\n",
       "    }\n",
       "\n",
       "    .dataframe thead th {\n",
       "        text-align: right;\n",
       "    }\n",
       "</style>\n",
       "<table border=\"1\" class=\"dataframe\">\n",
       "  <thead>\n",
       "    <tr style=\"text-align: right;\">\n",
       "      <th></th>\n",
       "      <th>AAPL</th>\n",
       "      <th>AXP</th>\n",
       "      <th>BA</th>\n",
       "      <th>CAT</th>\n",
       "      <th>CSCO</th>\n",
       "      <th>CVX</th>\n",
       "      <th>DIS</th>\n",
       "      <th>GS</th>\n",
       "      <th>HD</th>\n",
       "      <th>IBM</th>\n",
       "      <th>...</th>\n",
       "      <th>PFE</th>\n",
       "      <th>PG</th>\n",
       "      <th>TRV</th>\n",
       "      <th>UNH</th>\n",
       "      <th>UTX</th>\n",
       "      <th>V</th>\n",
       "      <th>VZ</th>\n",
       "      <th>WBA</th>\n",
       "      <th>WMT</th>\n",
       "      <th>XOM</th>\n",
       "    </tr>\n",
       "  </thead>\n",
       "  <tbody>\n",
       "    <tr>\n",
       "      <th>2019-06-20</th>\n",
       "      <td>-0.003796</td>\n",
       "      <td>0.000592</td>\n",
       "      <td>-0.008219</td>\n",
       "      <td>-0.013549</td>\n",
       "      <td>0.001757</td>\n",
       "      <td>-0.001752</td>\n",
       "      <td>0.008004</td>\n",
       "      <td>0.029191</td>\n",
       "      <td>-0.027918</td>\n",
       "      <td>-0.037863</td>\n",
       "      <td>...</td>\n",
       "      <td>0.007825</td>\n",
       "      <td>0.008118</td>\n",
       "      <td>0.008920</td>\n",
       "      <td>-0.020855</td>\n",
       "      <td>-0.019805</td>\n",
       "      <td>0.002026</td>\n",
       "      <td>0.005016</td>\n",
       "      <td>0.008969</td>\n",
       "      <td>0.006169</td>\n",
       "      <td>0.003187</td>\n",
       "    </tr>\n",
       "    <tr>\n",
       "      <th>2019-06-21</th>\n",
       "      <td>0.000242</td>\n",
       "      <td>0.010754</td>\n",
       "      <td>0.001983</td>\n",
       "      <td>-0.006597</td>\n",
       "      <td>0.006017</td>\n",
       "      <td>-0.004627</td>\n",
       "      <td>-0.011502</td>\n",
       "      <td>-0.005589</td>\n",
       "      <td>-0.008932</td>\n",
       "      <td>0.005252</td>\n",
       "      <td>...</td>\n",
       "      <td>0.003263</td>\n",
       "      <td>0.004632</td>\n",
       "      <td>-0.005380</td>\n",
       "      <td>0.011862</td>\n",
       "      <td>0.004990</td>\n",
       "      <td>-0.004272</td>\n",
       "      <td>-0.006023</td>\n",
       "      <td>0.002250</td>\n",
       "      <td>0.000371</td>\n",
       "      <td>-0.003246</td>\n",
       "    </tr>\n",
       "    <tr>\n",
       "      <th>2019-06-24</th>\n",
       "      <td>-0.001945</td>\n",
       "      <td>-0.001727</td>\n",
       "      <td>-0.005759</td>\n",
       "      <td>-0.007322</td>\n",
       "      <td>0.003357</td>\n",
       "      <td>0.009473</td>\n",
       "      <td>-0.002996</td>\n",
       "      <td>0.000101</td>\n",
       "      <td>0.001118</td>\n",
       "      <td>-0.005272</td>\n",
       "      <td>...</td>\n",
       "      <td>-0.004092</td>\n",
       "      <td>0.002597</td>\n",
       "      <td>0.004255</td>\n",
       "      <td>0.018720</td>\n",
       "      <td>0.002099</td>\n",
       "      <td>-0.000063</td>\n",
       "      <td>-0.002880</td>\n",
       "      <td>-0.019794</td>\n",
       "      <td>0.004749</td>\n",
       "      <td>-0.001469</td>\n",
       "    </tr>\n",
       "    <tr>\n",
       "      <th>2019-06-25</th>\n",
       "      <td>0.014453</td>\n",
       "      <td>-0.005587</td>\n",
       "      <td>-0.001883</td>\n",
       "      <td>-0.000344</td>\n",
       "      <td>0.005190</td>\n",
       "      <td>-0.000081</td>\n",
       "      <td>-0.004950</td>\n",
       "      <td>0.003909</td>\n",
       "      <td>-0.007768</td>\n",
       "      <td>-0.002789</td>\n",
       "      <td>...</td>\n",
       "      <td>0.001493</td>\n",
       "      <td>0.001160</td>\n",
       "      <td>-0.008148</td>\n",
       "      <td>-0.004304</td>\n",
       "      <td>-0.010376</td>\n",
       "      <td>0.002829</td>\n",
       "      <td>-0.008468</td>\n",
       "      <td>-0.109304</td>\n",
       "      <td>-0.008699</td>\n",
       "      <td>-0.003948</td>\n",
       "    </tr>\n",
       "  </tbody>\n",
       "</table>\n",
       "<p>4 rows × 29 columns</p>\n",
       "</div>"
      ],
      "text/plain": [
       "                AAPL       AXP        BA       CAT      CSCO       CVX  \\\n",
       "2019-06-20 -0.003796  0.000592 -0.008219 -0.013549  0.001757 -0.001752   \n",
       "2019-06-21  0.000242  0.010754  0.001983 -0.006597  0.006017 -0.004627   \n",
       "2019-06-24 -0.001945 -0.001727 -0.005759 -0.007322  0.003357  0.009473   \n",
       "2019-06-25  0.014453 -0.005587 -0.001883 -0.000344  0.005190 -0.000081   \n",
       "\n",
       "                 DIS        GS        HD       IBM  ...       PFE        PG  \\\n",
       "2019-06-20  0.008004  0.029191 -0.027918 -0.037863  ...  0.007825  0.008118   \n",
       "2019-06-21 -0.011502 -0.005589 -0.008932  0.005252  ...  0.003263  0.004632   \n",
       "2019-06-24 -0.002996  0.000101  0.001118 -0.005272  ... -0.004092  0.002597   \n",
       "2019-06-25 -0.004950  0.003909 -0.007768 -0.002789  ...  0.001493  0.001160   \n",
       "\n",
       "                 TRV       UNH       UTX         V        VZ       WBA  \\\n",
       "2019-06-20  0.008920 -0.020855 -0.019805  0.002026  0.005016  0.008969   \n",
       "2019-06-21 -0.005380  0.011862  0.004990 -0.004272 -0.006023  0.002250   \n",
       "2019-06-24  0.004255  0.018720  0.002099 -0.000063 -0.002880 -0.019794   \n",
       "2019-06-25 -0.008148 -0.004304 -0.010376  0.002829 -0.008468 -0.109304   \n",
       "\n",
       "                 WMT       XOM  \n",
       "2019-06-20  0.006169  0.003187  \n",
       "2019-06-21  0.000371 -0.003246  \n",
       "2019-06-24  0.004749 -0.001469  \n",
       "2019-06-25 -0.008699 -0.003948  \n",
       "\n",
       "[4 rows x 29 columns]"
      ]
     },
     "execution_count": 40,
     "metadata": {},
     "output_type": "execute_result"
    }
   ],
   "source": [
    "return_simul.head(4)"
   ]
  },
  {
   "cell_type": "code",
   "execution_count": 41,
   "metadata": {},
   "outputs": [],
   "source": [
    "Cum_return_simul = (1+return_simul).cumprod(0)\n",
    "Simulated_Stock_Price = Cum_return_simul * np.array(Stock_price.iloc[-1]).reshape(1,-1)\n",
    "return_simul_Dow = np.log(pd.concat([Stock_price.loc[[trading_day]],Simulated_Stock_Price])).diff().iloc[1:].mean(1)\n",
    "Cum_return_Dow_simul = (1+return_simul_Dow).cumprod(0)\n",
    "Simulated_Dow_Price = Cum_return_Dow_simul * Dow_price.Close.iloc[-1]"
   ]
  },
  {
   "cell_type": "code",
   "execution_count": 42,
   "metadata": {},
   "outputs": [],
   "source": [
    "last_vol = Stock_daily_Vol.iloc[-1]\n",
    "last_index_vol = index_daily_vol.index_daily_vol.iloc[-1]"
   ]
  },
  {
   "cell_type": "markdown",
   "metadata": {},
   "source": [
    " # Garch imvol fitting"
   ]
  },
  {
   "cell_type": "code",
   "execution_count": 43,
   "metadata": {},
   "outputs": [],
   "source": [
    "V_0_im = (  np.array(imvol_lst) * 1/np.sqrt(Total_Businessday) ) **2"
   ]
  },
  {
   "cell_type": "code",
   "execution_count": 44,
   "metadata": {},
   "outputs": [],
   "source": [
    "simul_imvol_array = np.zeros((Time_to_maturity, len(Ticker))) \n",
    "simul_imvol_array[0,:] = np.sqrt( w + alpha * np.array(return_simul.iloc[0])**2 + beta * V_0_im )\n",
    "for i in range(1,Time_to_maturity) :\n",
    "    simul_imvol_array[i,:] = np.sqrt( w + alpha * np.array(return_simul.iloc[i])**2 + beta * simul_imvol_array[i-1,:]**2)\n",
    "forecasted_imvol = pd.DataFrame(simul_imvol_array * np.sqrt(Total_Businessday), columns = Ticker, index = pd.bdate_range(trading_day,exdate)[1:])"
   ]
  },
  {
   "cell_type": "code",
   "execution_count": 45,
   "metadata": {},
   "outputs": [],
   "source": [
    "simul_imvol_array_in = np.zeros((Time_to_maturity, 1))\n",
    "simul_imvol_array_in[0,:] = np.sqrt( w_in + alpha_in * np.array(return_simul_Dow.iloc[0])**2 + beta_in * V_0_in )\n",
    "for i in range(1,Time_to_maturity) :\n",
    "    simul_imvol_array_in[i,:] = np.sqrt( w_in + alpha_in * np.array(return_simul_Dow.iloc[i])**2 + beta_in * simul_imvol_array_in[i-1,:]**2)\n",
    "forecasted_imvol_Dow = pd.DataFrame(simul_imvol_array_in*np.sqrt(Total_Businessday), columns = ['Dow'], index = pd.bdate_range(trading_day,exdate)[1:])"
   ]
  },
  {
   "cell_type": "code",
   "execution_count": 46,
   "metadata": {},
   "outputs": [],
   "source": [
    "Simul_Straddle_Price = pd.DataFrame([])\n",
    "Simul_Straddle_Dow = pd.DataFrame([] , columns = ['Index_Straddle_Price'])\n",
    "\n",
    "for j in Simulated_Stock_Price.index :\n",
    "    New_Straddle_Value = {}\n",
    "    r = Annual_return.t30ret.loc[j]\n",
    "    t = int(businessDuration(j,exdate, unit = 'day'))/ Total_Businessday\n",
    "    for i in Ticker :\n",
    "        S = Simulated_Stock_Price[i].loc[j]\n",
    "        K = K_lst[i]\n",
    "        sigma = forecasted_imvol[i].loc[j]\n",
    "        #t = int(businessDuration(j,exdate, unit = 'day'))/ Total_Businessday\n",
    "        div = con_div_yield[i].loc[j]\n",
    "        C = binomial_option.American_C(S,K,t,Time_to_maturity * 2,sigma,r,Model = 'CRR', div = div, For_American = True , Removing_nonlinearity = True)\n",
    "        P = binomial_option.American_P(S,K,t,Time_to_maturity * 2,sigma,r,Model = 'CRR', div = div, For_American = True , Removing_nonlinearity = True)\n",
    "        New_Straddle_Value[i] = C+P\n",
    "    New_Straddle_Value = pd.DataFrame(pd.Series(New_Straddle_Value), columns = [j])\n",
    "    Simul_Straddle_Price = pd.concat([Simul_Straddle_Price,New_Straddle_Value], axis = 1)\n",
    "    \n",
    "    S = Simulated_Dow_Price.loc[j]\n",
    "    K = K_Dow\n",
    "    sigma = forecasted_imvol_Dow.Dow.loc[j]\n",
    "    #r = Annual_return.t30ret.loc[j]\n",
    "    div = Dow_Div_rate.Dow_Div.loc[j]\n",
    "    #t = int(businessDuration(j, exdate, unit  = 'day'))/ Total_Businessday\n",
    "    C = BS_C(S,K,t,sigma,r,div)\n",
    "    P = BS_P(S,K,t,sigma,r,div)\n",
    "    N_Straddle_Dow = pd.DataFrame([C + P], index = [j],  columns = ['Index_Straddle_Price'])\n",
    "    Simul_Straddle_Dow = pd.concat([Simul_Straddle_Dow, N_Straddle_Dow], axis = 0)    \n",
    "    \n",
    "    \n",
    "Simul_Straddle = pd.DataFrame(Simul_Straddle_Price.T.sum(1)/29, columns = ['Simul_Straddle_Price'])"
   ]
  },
  {
   "cell_type": "code",
   "execution_count": 47,
   "metadata": {
    "scrolled": true
   },
   "outputs": [],
   "source": [
    "Straddle_profit = theta_multiple * (Simul_Straddle - float(Straddle.best_offer.loc[trading_day]))\n",
    "Straddle_Dow_profit = (float(Straddle_Dow.best_bid) - Simul_Straddle_Dow)"
   ]
  },
  {
   "cell_type": "code",
   "execution_count": 48,
   "metadata": {
    "scrolled": true
   },
   "outputs": [
    {
     "data": {
      "text/html": [
       "<div>\n",
       "<style scoped>\n",
       "    .dataframe tbody tr th:only-of-type {\n",
       "        vertical-align: middle;\n",
       "    }\n",
       "\n",
       "    .dataframe tbody tr th {\n",
       "        vertical-align: top;\n",
       "    }\n",
       "\n",
       "    .dataframe thead th {\n",
       "        text-align: right;\n",
       "    }\n",
       "</style>\n",
       "<table border=\"1\" class=\"dataframe\">\n",
       "  <thead>\n",
       "    <tr style=\"text-align: right;\">\n",
       "      <th></th>\n",
       "      <th>Simul_Straddle_Price</th>\n",
       "      <th>Index_Straddle_Price</th>\n",
       "    </tr>\n",
       "  </thead>\n",
       "  <tbody>\n",
       "    <tr>\n",
       "      <th>2019-06-20</th>\n",
       "      <td>6.679787</td>\n",
       "      <td>7.279271</td>\n",
       "    </tr>\n",
       "    <tr>\n",
       "      <th>2019-06-26</th>\n",
       "      <td>6.191510</td>\n",
       "      <td>6.404327</td>\n",
       "    </tr>\n",
       "    <tr>\n",
       "      <th>2019-07-02</th>\n",
       "      <td>7.026149</td>\n",
       "      <td>7.413723</td>\n",
       "    </tr>\n",
       "    <tr>\n",
       "      <th>2019-07-08</th>\n",
       "      <td>6.232271</td>\n",
       "      <td>6.664502</td>\n",
       "    </tr>\n",
       "    <tr>\n",
       "      <th>2019-07-12</th>\n",
       "      <td>5.862600</td>\n",
       "      <td>6.345877</td>\n",
       "    </tr>\n",
       "    <tr>\n",
       "      <th>2019-07-18</th>\n",
       "      <td>5.658585</td>\n",
       "      <td>5.704541</td>\n",
       "    </tr>\n",
       "  </tbody>\n",
       "</table>\n",
       "</div>"
      ],
      "text/plain": [
       "            Simul_Straddle_Price  Index_Straddle_Price\n",
       "2019-06-20              6.679787              7.279271\n",
       "2019-06-26              6.191510              6.404327\n",
       "2019-07-02              7.026149              7.413723\n",
       "2019-07-08              6.232271              6.664502\n",
       "2019-07-12              5.862600              6.345877\n",
       "2019-07-18              5.658585              5.704541"
      ]
     },
     "execution_count": 48,
     "metadata": {},
     "output_type": "execute_result"
    }
   ],
   "source": [
    "pd.concat([Simul_Straddle, Simul_Straddle_Dow] ,axis = 1).iloc[::4]"
   ]
  },
  {
   "cell_type": "code",
   "execution_count": 49,
   "metadata": {},
   "outputs": [],
   "source": [
    "Total_Profit = Straddle_profit.Simul_Straddle_Price + Straddle_Dow_profit.Index_Straddle_Price"
   ]
  },
  {
   "cell_type": "code",
   "execution_count": 50,
   "metadata": {},
   "outputs": [],
   "source": [
    "Straddle_profit2 = vega_multiple * (Simul_Straddle - float(Straddle.best_offer.loc[trading_day]))\n",
    "Straddle_Dow_profit2 = (float(Straddle_Dow.best_bid) - Simul_Straddle_Dow)"
   ]
  },
  {
   "cell_type": "code",
   "execution_count": 51,
   "metadata": {},
   "outputs": [],
   "source": [
    "Total_Profit2 = Straddle_profit2.Simul_Straddle_Price + Straddle_Dow_profit2.Index_Straddle_Price"
   ]
  },
  {
   "cell_type": "markdown",
   "metadata": {},
   "source": [
    " ## Repeat ( This may be time consuming about 12 minute)"
   ]
  },
  {
   "cell_type": "code",
   "execution_count": 52,
   "metadata": {},
   "outputs": [],
   "source": [
    "alpha = Para[0,:]\n",
    "beta = Para[1,:]\n",
    "V_L = Para[2,:]**2\n",
    "w = (1-alpha - beta) * V_L\n",
    "V_0_FHS = np.array(Stock_daily_Vol.iloc[-1]) ** 2\n",
    "\n",
    "alpha_in = index_x[0]\n",
    "beta_in = index_x[1]\n",
    "V_L_in = index_x[2]**2\n",
    "w_in =(1-alpha_in-beta_in)*V_L_in\n",
    "V_0_in = ( Dow_imvol * 1/np.sqrt(Total_Businessday) ) **2\n",
    "\n",
    "V_0_im = (  np.array(imvol_lst) * 1/np.sqrt(Total_Businessday) ) **2\n",
    "Z = pd.DataFrame(np.array(Stock_return)/np.array(Stock_daily_Vol) , columns = Stock_return.columns, index = Stock_return.index)"
   ]
  },
  {
   "cell_type": "code",
   "execution_count": 53,
   "metadata": {
    "scrolled": true
   },
   "outputs": [],
   "source": [
    "simul_num = 1000\n",
    "my_simul = pd.DataFrame([])\n",
    "my_simul2 = pd.DataFrame([])\n",
    "for n in range(simul_num) :\n",
    "    Zarray = np.array(Z.sample(Time_to_maturity, axis = 0))              # Random Z sample\n",
    "    simul_return = np.zeros((Time_to_maturity,len(Ticker)))              # Temp Array to make return simulation\n",
    "    new_return = np.array(Stock_daily_Vol.iloc[-1]) * Zarray[0,:]        # Simulated_return(t+1) = Z(t+1) x Sigma(t+1)\n",
    "    simul_return[0,:] = new_return                                      \n",
    "    simul_vol_array = np.zeros((Time_to_maturity,len(Ticker)))           # Temp Array to make volatility simulation with Garch  \n",
    "    new_var = w + alpha * new_return**2 + beta * V_0_FHS                 # Var(t+1) \n",
    "    new_vol = np.sqrt(new_var) \n",
    "    simul_vol_array[0,:] = new_vol                                       # Vol(t+1)\n",
    "    for i in range(1,Time_to_maturity) :                           \n",
    "        new_return = simul_vol_array[i-1,:] * Zarray[i,:]                # New Return(t+i) = Z(t+i) x Sigma(t+i)\n",
    "        simul_return[i,:] = new_return                                   \n",
    "        new_var = w + alpha * new_return **2 + beta * simul_vol_array[i-1,:]**2  # New Return, Pre Vol >> New Vol\n",
    "        new_vol = np.sqrt(new_var)\n",
    "        simul_vol_array[i,:] = new_vol\n",
    "    return_simul = pd.DataFrame(simul_return, columns= Ticker, index = pd.bdate_range(trading_day, exdate )[1:])\n",
    "    forecasted_vol = pd.DataFrame(simul_vol_array, columns = Ticker, index = pd.bdate_range(trading_day, exdate)[1:])\n",
    "    \n",
    "    ##########################################################\n",
    "    ### From Simulated Return To Make Dow and Stock Prices ###\n",
    "    ##########################################################\n",
    "    Cum_return_simul = (1+return_simul).cumprod(0)\n",
    "    Simulated_Stock_Price = Cum_return_simul * np.array(Stock_price.iloc[-1]).reshape(1,-1)\n",
    "    return_simul_Dow = np.log(pd.concat([Stock_price.loc[[trading_day]],Simulated_Stock_Price])).diff().iloc[1:].mean(1)\n",
    "    Cum_return_Dow_simul = (1+return_simul_Dow).cumprod(0)\n",
    "    Simulated_Dow_Price = Cum_return_Dow_simul * Dow_price.Close.iloc[-1]    \n",
    "        \n",
    "    ##################################################\n",
    "    ### Garch Implied Vol fitting (Stock and Index)###\n",
    "    ##################################################\n",
    "    last_vol = Stock_daily_Vol.iloc[-1]\n",
    "    last_index_vol = index_daily_vol.index_daily_vol.iloc[-1]    \n",
    "    \n",
    "    simul_imvol_array = np.zeros((Time_to_maturity, len(Ticker))) \n",
    "    simul_imvol_array[0,:] = np.sqrt( w + alpha * np.array(return_simul.iloc[0])**2 + beta * V_0_im )\n",
    "    \n",
    "    simul_imvol_array_in = np.zeros((Time_to_maturity, 1))\n",
    "    simul_imvol_array_in[0,:] = np.sqrt( w_in + alpha_in * np.array(return_simul_Dow.iloc[0])**2 + beta_in * V_0_in )\n",
    "    \n",
    "    for i in range(1,Time_to_maturity) :\n",
    "        simul_imvol_array[i,:] = np.sqrt( w + alpha * np.array(return_simul.iloc[i])**2 + beta * simul_imvol_array[i-1,:]**2)\n",
    "        simul_imvol_array_in[i,:] = np.sqrt( w_in + alpha_in * np.array(return_simul_Dow.iloc[i])**2 + beta_in * simul_imvol_array_in[i-1,:]**2)    \n",
    "    forecasted_imvol = pd.DataFrame(simul_imvol_array * np.sqrt(Total_Businessday), columns = Ticker, index = pd.bdate_range(trading_day,exdate)[1:])    \n",
    "    forecasted_imvol_Dow = pd.DataFrame(simul_imvol_array_in*np.sqrt(Total_Businessday), columns = ['Dow'], index = pd.bdate_range(trading_day,exdate)[1:])    \n",
    "\n",
    "    Simul_Straddle_Price = pd.DataFrame([])\n",
    "    Simul_Straddle_Dow = pd.DataFrame([] , columns = ['Index_Straddle_Price'])\n",
    "\n",
    "    for j in Simulated_Stock_Price.index :\n",
    "        New_Straddle_Value = {}\n",
    "        r = Annual_return.t30ret.loc[j]\n",
    "        t = int(businessDuration(j,exdate, unit = 'day'))/ Total_Businessday\n",
    "        for i in Ticker :\n",
    "            ###################################\n",
    "            #### Individual Option Pricing ####\n",
    "            ###################################\n",
    "            S = Simulated_Stock_Price[i].loc[j]\n",
    "            K = K_lst[i]\n",
    "            sigma = forecasted_imvol[i].loc[j]\n",
    "            div = con_div_yield[i].loc[j]\n",
    "            C = binomial_option.American_C(S,K,t,Time_to_maturity * 2,sigma,r,Model = 'CRR', div = div, For_American = True , Removing_nonlinearity = False)\n",
    "            P = binomial_option.American_P(S,K,t,Time_to_maturity * 2,sigma,r,Model = 'CRR', div = div, For_American = True , Removing_nonlinearity = False)\n",
    "            New_Straddle_Value[i] = C+P\n",
    "        New_Straddle_Value = pd.DataFrame(pd.Series(New_Straddle_Value), columns = [j])\n",
    "        Simul_Straddle_Price = pd.concat([Simul_Straddle_Price,New_Straddle_Value], axis = 1)\n",
    "\n",
    "        ###################################\n",
    "        ## Index Option Position Pricing ##\n",
    "        ###################################\n",
    "        S = Simulated_Dow_Price.loc[j]\n",
    "        K = K_Dow\n",
    "        sigma = forecasted_imvol_Dow.Dow.loc[j]\n",
    "        div = Dow_Div_rate.Dow_Div.loc[j]\n",
    "        C = BS_C(S,K,t,sigma,r,div)\n",
    "        P = BS_P(S,K,t,sigma,r,div)\n",
    "        N_Straddle_Dow = pd.DataFrame([C + P], index = [j],  columns = ['Index_Straddle_Price'])\n",
    "        Simul_Straddle_Dow = pd.concat([Simul_Straddle_Dow, N_Straddle_Dow], axis = 0)    \n",
    "    \n",
    "    Simul_Straddle = pd.DataFrame(Simul_Straddle_Price.T.sum(1)/29, columns = ['Simul_Straddle_Price'])\n",
    "    \n",
    "    Straddle_profit = theta_multiple * (Simul_Straddle - float(Straddle.best_offer.loc[trading_day]))\n",
    "    Straddle_Dow_profit = (float(Straddle_Dow.best_bid) - Simul_Straddle_Dow)\n",
    "    Total_Profit = Straddle_profit.Simul_Straddle_Price + Straddle_Dow_profit.Index_Straddle_Price\n",
    "    \n",
    "    my_simul = pd.concat([my_simul,Total_Profit], axis = 1)\n",
    "    ###############################\n",
    "    ### Vega Neutral Profit #######\n",
    "    ###############################\n",
    "    Straddle_profit2 = vega_multiple * (Simul_Straddle - float(Straddle.best_offer.loc[trading_day]))\n",
    "    Total_Profit2 = Straddle_profit2.Simul_Straddle_Price + Straddle_Dow_profit.Index_Straddle_Price\n",
    "    my_simul2 = pd.concat([my_simul2, Total_Profit2], axis = 1)\n",
    "my_simul.columns = np.arange(len(my_simul.columns))    \n",
    "my_simul2.columns = np.arange(len(my_simul2.columns))    "
   ]
  },
  {
   "cell_type": "code",
   "execution_count": 54,
   "metadata": {},
   "outputs": [],
   "source": [
    "def PandL(my_simul , T = 1) :\n",
    "    T = T-1\n",
    "    return my_simul.iloc[T]"
   ]
  },
  {
   "cell_type": "code",
   "execution_count": 55,
   "metadata": {},
   "outputs": [],
   "source": [
    "def PandL_plot(my_simul , T, tit = 'Theta_Neutral_dispersion_trade' , color = 'blue') :\n",
    "    traded_data = pd.Series(PandL(my_simul, T))\n",
    "    mean_value = traded_data.mean()\n",
    "    VaR05 = traded_data.quantile(0.05)\n",
    "    VaR01 = traded_data.quantile(0.01)\n",
    "    ES05 = traded_data[traded_data<=VaR05].mean()\n",
    "    ES01 = traded_data[traded_data<=VaR01].mean()    \n",
    "    sns.distplot(PandL(my_simul,T), bins = 50, color = color)\n",
    "    plt.text(mean_value-1.3, 0.1, 'mean_value \\n= '+str(np.round(mean_value,4)))\n",
    "    plt.text(VaR05-1, 0.05, 'VaR05 \\n= '+str(np.round(VaR05,4) ))\n",
    "    plt.text(ES05-1, 0.10, 'ES05 \\n= '+str(np.round(ES05,4) ))\n",
    "    plt.text(VaR01-1, 0.02, 'VaR01 \\n= '+str(np.round(VaR01,4) ))\n",
    "    plt.text(ES01-1, 0.12, 'ES01 \\n= '+str(np.round(ES01,4) ))\n",
    "    plt.title(tit+str(T)+'th day')\n",
    "    plt.plot()"
   ]
  },
  {
   "cell_type": "code",
   "execution_count": 72,
   "metadata": {
    "scrolled": false
   },
   "outputs": [
    {
     "data": {
      "image/png": "[encoded data removed]",
      "text/plain": [
       "<Figure size 432x288 with 1 Axes>"
      ]
     },
     "metadata": {
      "needs_background": "light"
     },
     "output_type": "display_data"
    }
   ],
   "source": [
    "PandL_plot(my_simul, 22)"
   ]
  },
  {
   "cell_type": "code",
   "execution_count": 69,
   "metadata": {
    "scrolled": true
   },
   "outputs": [
    {
     "data": {
      "image/png": "[encoded data removed]",
      "text/plain": [
       "<Figure size 432x288 with 1 Axes>"
      ]
     },
     "metadata": {
      "needs_background": "light"
     },
     "output_type": "display_data"
    }
   ],
   "source": [
    "PandL_plot(my_simul2,1, 'Vega_Neutral_dispersion_trade', 'green')"
   ]
  },
  {
   "cell_type": "code",
   "execution_count": 58,
   "metadata": {},
   "outputs": [],
   "source": [
    "def risk_measure(my_simul) :\n",
    "    my_traded_data = pd.DataFrame([])\n",
    "    for i in range(1,22) :\n",
    "        traded_data = pd.Series(PandL(my_simul, i))\n",
    "        mean_value = traded_data.mean()\n",
    "        VaR05 = traded_data.quantile(0.05)\n",
    "        VaR01 = traded_data.quantile(0.01)\n",
    "        ES05 = traded_data[traded_data<=VaR05].mean()\n",
    "        ES01 = traded_data[traded_data<=VaR01].mean()\n",
    "        my_traded_data = pd.concat([my_traded_data, pd.DataFrame([mean_value,VaR05,VaR01,ES05,ES01], index = ['Mean_Profit','VaR05','VaR01','ES05','ES01'], columns = ['T='+str(i)])] , axis = 1)\n",
    "    return my_traded_data"
   ]
  },
  {
   "cell_type": "code",
   "execution_count": 62,
   "metadata": {
    "scrolled": false
   },
   "outputs": [],
   "source": [
    "result1 = risk_measure(my_simul)\n",
    "result2 = risk_measure(my_simul2)"
   ]
  },
  {
   "cell_type": "code",
   "execution_count": 63,
   "metadata": {},
   "outputs": [
    {
     "data": {
      "text/html": [
       "<div>\n",
       "<style scoped>\n",
       "    .dataframe tbody tr th:only-of-type {\n",
       "        vertical-align: middle;\n",
       "    }\n",
       "\n",
       "    .dataframe tbody tr th {\n",
       "        vertical-align: top;\n",
       "    }\n",
       "\n",
       "    .dataframe thead th {\n",
       "        text-align: right;\n",
       "    }\n",
       "</style>\n",
       "<table border=\"1\" class=\"dataframe\">\n",
       "  <thead>\n",
       "    <tr style=\"text-align: right;\">\n",
       "      <th></th>\n",
       "      <th>T=1</th>\n",
       "      <th>T=6</th>\n",
       "      <th>T=11</th>\n",
       "      <th>T=16</th>\n",
       "      <th>T=21</th>\n",
       "    </tr>\n",
       "  </thead>\n",
       "  <tbody>\n",
       "    <tr>\n",
       "      <th>Mean_Profit</th>\n",
       "      <td>-0.540625</td>\n",
       "      <td>-0.338121</td>\n",
       "      <td>-0.316600</td>\n",
       "      <td>-0.158121</td>\n",
       "      <td>0.040542</td>\n",
       "    </tr>\n",
       "    <tr>\n",
       "      <th>VaR05</th>\n",
       "      <td>-1.831823</td>\n",
       "      <td>-2.876027</td>\n",
       "      <td>-3.355946</td>\n",
       "      <td>-4.784913</td>\n",
       "      <td>-6.310433</td>\n",
       "    </tr>\n",
       "    <tr>\n",
       "      <th>VaR01</th>\n",
       "      <td>-3.425137</td>\n",
       "      <td>-3.752397</td>\n",
       "      <td>-6.518096</td>\n",
       "      <td>-7.604888</td>\n",
       "      <td>-8.597709</td>\n",
       "    </tr>\n",
       "    <tr>\n",
       "      <th>ES05</th>\n",
       "      <td>-2.713370</td>\n",
       "      <td>-3.586641</td>\n",
       "      <td>-5.174367</td>\n",
       "      <td>-6.463707</td>\n",
       "      <td>-7.883382</td>\n",
       "    </tr>\n",
       "    <tr>\n",
       "      <th>ES01</th>\n",
       "      <td>-4.233797</td>\n",
       "      <td>-4.696018</td>\n",
       "      <td>-7.391705</td>\n",
       "      <td>-8.960894</td>\n",
       "      <td>-9.756596</td>\n",
       "    </tr>\n",
       "  </tbody>\n",
       "</table>\n",
       "</div>"
      ],
      "text/plain": [
       "                  T=1       T=6      T=11      T=16      T=21\n",
       "Mean_Profit -0.540625 -0.338121 -0.316600 -0.158121  0.040542\n",
       "VaR05       -1.831823 -2.876027 -3.355946 -4.784913 -6.310433\n",
       "VaR01       -3.425137 -3.752397 -6.518096 -7.604888 -8.597709\n",
       "ES05        -2.713370 -3.586641 -5.174367 -6.463707 -7.883382\n",
       "ES01        -4.233797 -4.696018 -7.391705 -8.960894 -9.756596"
      ]
     },
     "execution_count": 63,
     "metadata": {},
     "output_type": "execute_result"
    }
   ],
   "source": [
    "result1[result1.columns[::5]]"
   ]
  },
  {
   "cell_type": "code",
   "execution_count": 64,
   "metadata": {
    "scrolled": true
   },
   "outputs": [
    {
     "data": {
      "text/html": [
       "<div>\n",
       "<style scoped>\n",
       "    .dataframe tbody tr th:only-of-type {\n",
       "        vertical-align: middle;\n",
       "    }\n",
       "\n",
       "    .dataframe tbody tr th {\n",
       "        vertical-align: top;\n",
       "    }\n",
       "\n",
       "    .dataframe thead th {\n",
       "        text-align: right;\n",
       "    }\n",
       "</style>\n",
       "<table border=\"1\" class=\"dataframe\">\n",
       "  <thead>\n",
       "    <tr style=\"text-align: right;\">\n",
       "      <th></th>\n",
       "      <th>T=1</th>\n",
       "      <th>T=6</th>\n",
       "      <th>T=11</th>\n",
       "      <th>T=16</th>\n",
       "      <th>T=21</th>\n",
       "    </tr>\n",
       "  </thead>\n",
       "  <tbody>\n",
       "    <tr>\n",
       "      <th>Mean_Profit</th>\n",
       "      <td>-0.565733</td>\n",
       "      <td>-0.356500</td>\n",
       "      <td>-0.368108</td>\n",
       "      <td>-0.297001</td>\n",
       "      <td>-0.129263</td>\n",
       "    </tr>\n",
       "    <tr>\n",
       "      <th>VaR05</th>\n",
       "      <td>-1.615066</td>\n",
       "      <td>-2.278752</td>\n",
       "      <td>-2.682341</td>\n",
       "      <td>-3.349017</td>\n",
       "      <td>-4.437280</td>\n",
       "    </tr>\n",
       "    <tr>\n",
       "      <th>VaR01</th>\n",
       "      <td>-3.156506</td>\n",
       "      <td>-2.928429</td>\n",
       "      <td>-3.783058</td>\n",
       "      <td>-5.077687</td>\n",
       "      <td>-6.193841</td>\n",
       "    </tr>\n",
       "    <tr>\n",
       "      <th>ES05</th>\n",
       "      <td>-2.371763</td>\n",
       "      <td>-2.767032</td>\n",
       "      <td>-3.362460</td>\n",
       "      <td>-4.389411</td>\n",
       "      <td>-5.391224</td>\n",
       "    </tr>\n",
       "    <tr>\n",
       "      <th>ES01</th>\n",
       "      <td>-3.189886</td>\n",
       "      <td>-3.438093</td>\n",
       "      <td>-4.458526</td>\n",
       "      <td>-5.883393</td>\n",
       "      <td>-6.767493</td>\n",
       "    </tr>\n",
       "  </tbody>\n",
       "</table>\n",
       "</div>"
      ],
      "text/plain": [
       "                  T=1       T=6      T=11      T=16      T=21\n",
       "Mean_Profit -0.565733 -0.356500 -0.368108 -0.297001 -0.129263\n",
       "VaR05       -1.615066 -2.278752 -2.682341 -3.349017 -4.437280\n",
       "VaR01       -3.156506 -2.928429 -3.783058 -5.077687 -6.193841\n",
       "ES05        -2.371763 -2.767032 -3.362460 -4.389411 -5.391224\n",
       "ES01        -3.189886 -3.438093 -4.458526 -5.883393 -6.767493"
      ]
     },
     "execution_count": 64,
     "metadata": {},
     "output_type": "execute_result"
    }
   ],
   "source": [
    "result2[result2.columns[::5]]"
   ]
  },
  {
   "cell_type": "code",
   "execution_count": 87,
   "metadata": {},
   "outputs": [
    {
     "data": {
      "image/png": "[encoded data removed]",
      "text/plain": [
       "<Figure size 432x288 with 1 Axes>"
      ]
     },
     "metadata": {
      "needs_background": "light"
     },
     "output_type": "display_data"
    }
   ],
   "source": [
    "plt.plot(result1.iloc[0], marker = 'o', color = 'green')\n",
    "plt.title('mean profit of vega neutral')\n",
    "plt.xticks(rotation=45)\n",
    "plt.ylabel('Mean Profit')\n",
    "plt.show()"
   ]
  },
  {
   "cell_type": "code",
   "execution_count": 90,
   "metadata": {
    "scrolled": true
   },
   "outputs": [
    {
     "data": {
      "image/png": "[encoded data removed]",
      "text/plain": [
       "<Figure size 432x288 with 1 Axes>"
      ]
     },
     "metadata": {
      "needs_background": "light"
     },
     "output_type": "display_data"
    }
   ],
   "source": [
    "plt.plot(result2.iloc[0], marker = 'o', color = 'blue')\n",
    "plt.title('mean profit of theta neutral')\n",
    "plt.xticks(rotation=45)\n",
    "plt.ylabel('Mean Profit')\n",
    "plt.show()"
   ]
  },
  {
   "cell_type": "code",
   "execution_count": null,
   "metadata": {},
   "outputs": [],
   "source": []
  }
 ],
 "metadata": {
  "kernelspec": {
   "display_name": "Python 3",
   "language": "python",
   "name": "python3"
  },
  "language_info": {
   "codemirror_mode": {
    "name": "ipython",
    "version": 3
   },
   "file_extension": ".py",
   "mimetype": "text/x-python",
   "name": "python",
   "nbconvert_exporter": "python",
   "pygments_lexer": "ipython3",
   "version": "3.7.6"
  }
 },
 "nbformat": 4,
 "nbformat_minor": 4
}
