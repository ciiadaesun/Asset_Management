{
 "cells": [
  {
   "cell_type": "code",
   "execution_count": 1,
   "metadata": {
    "scrolled": false
   },
   "outputs": [
    {
     "name": "stdout",
     "output_type": "stream",
     "text": [
      "C:\\Users\\LIMDAESUN\\Desktop\\카이스트관련\\투자론\n"
     ]
    }
   ],
   "source": [
    "cd C:\\Users\\LIMDAESUN\\Desktop\\카이스트관련\\투자론"
   ]
  },
  {
   "cell_type": "code",
   "execution_count": 2,
   "metadata": {},
   "outputs": [],
   "source": [
    "import numpy as np\n",
    "import pandas as pd\n",
    "import random\n",
    "import matplotlib.pyplot as plt\n",
    "from scipy.optimize import minimize\n",
    "import statsmodels.api as sm"
   ]
  },
  {
   "cell_type": "code",
   "execution_count": 3,
   "metadata": {},
   "outputs": [],
   "source": [
    "rf = (pd.read_excel('rf.xlsx', index_col=0)/100).resample('D').last().interpolate(method = 'cubic')\n",
    "price = pd.read_excel('코스피개별가격데이터.xlsx', index_col=0)\n",
    "KOSPI = pd.read_excel('코스피지수.xlsx', index_col = 0)\n",
    "ret = np.log(price).diff().iloc[1:]\n",
    "my_index = sorted(list(set(ret.index)&set(rf.index)))\n",
    "KOSPI_ret = np.log(KOSPI).diff().iloc[1:].rename(columns = {'코스피지수' : '코스피수익률'}).loc[my_index]\n",
    "rf = rf.loc[my_index]\n",
    "ret = ret.loc[my_index]"
   ]
  },
  {
   "cell_type": "code",
   "execution_count": 4,
   "metadata": {},
   "outputs": [],
   "source": [
    "my_port = ['A005930','A005380','A000660','A068270','A005490','A002420']"
   ]
  },
  {
   "cell_type": "markdown",
   "metadata": {},
   "source": [
    " ## Optimized Weight by std minimizer"
   ]
  },
  {
   "cell_type": "code",
   "execution_count": 5,
   "metadata": {},
   "outputs": [],
   "source": [
    "def w_by_std_min(my_port_list, ret, a = 0.05) :\n",
    "    my_port = my_port_list\n",
    "    my_fun_str = ''\n",
    "    for i in range(len(my_port)) :\n",
    "        my_fun_str += '-x[' + str(i) + ']'\n",
    "    cons = ({'type':'eq', 'fun':lambda x : eval(my_fun_str) +1})\n",
    "    if len(my_port) >= 4 :\n",
    "        bnds = tuple([(0,0.3)] * len(my_port))\n",
    "    else :\n",
    "        bnds = tuple([(0,1)] * len(my_port))\n",
    "    def objfun(x, ret, alpha) :\n",
    "        cov = ret[my_port].ewm(alpha = a).cov().loc[ret.index[-1]]\n",
    "        return np.sqrt(x.reshape(1,-1).dot(cov).dot(x.reshape(-1,1)))\n",
    "    x0 = tuple([1/len(my_port)]*len(my_port))\n",
    "    res = minimize(objfun, x0, method = 'SLSQP', bounds = bnds, constraints = cons, args= (ret, a))\n",
    "    return pd.DataFrame(res.x, index = my_port, columns = ['Wegiht']).T"
   ]
  },
  {
   "cell_type": "code",
   "execution_count": 6,
   "metadata": {},
   "outputs": [
    {
     "data": {
      "text/html": [
       "<div>\n",
       "<style scoped>\n",
       "    .dataframe tbody tr th:only-of-type {\n",
       "        vertical-align: middle;\n",
       "    }\n",
       "\n",
       "    .dataframe tbody tr th {\n",
       "        vertical-align: top;\n",
       "    }\n",
       "\n",
       "    .dataframe thead th {\n",
       "        text-align: right;\n",
       "    }\n",
       "</style>\n",
       "<table border=\"1\" class=\"dataframe\">\n",
       "  <thead>\n",
       "    <tr style=\"text-align: right;\">\n",
       "      <th></th>\n",
       "      <th>A005930</th>\n",
       "      <th>A005380</th>\n",
       "      <th>A000660</th>\n",
       "      <th>A068270</th>\n",
       "      <th>A005490</th>\n",
       "      <th>A002420</th>\n",
       "    </tr>\n",
       "  </thead>\n",
       "  <tbody>\n",
       "    <tr>\n",
       "      <th>Wegiht</th>\n",
       "      <td>0.218264</td>\n",
       "      <td>0.243214</td>\n",
       "      <td>0.120564</td>\n",
       "      <td>0.088876</td>\n",
       "      <td>0.3</td>\n",
       "      <td>0.029083</td>\n",
       "    </tr>\n",
       "  </tbody>\n",
       "</table>\n",
       "</div>"
      ],
      "text/plain": [
       "         A005930   A005380   A000660   A068270  A005490   A002420\n",
       "Wegiht  0.218264  0.243214  0.120564  0.088876      0.3  0.029083"
      ]
     },
     "execution_count": 6,
     "metadata": {},
     "output_type": "execute_result"
    }
   ],
   "source": [
    "w_by_std_min(my_port, ret)"
   ]
  },
  {
   "cell_type": "markdown",
   "metadata": {},
   "source": [
    " ## Optimized Weight by Maximum Sharp"
   ]
  },
  {
   "cell_type": "code",
   "execution_count": 7,
   "metadata": {},
   "outputs": [],
   "source": [
    "def w_by_sharp_max(my_port_list, ret, KOSPI_ret, a = 0.05) :\n",
    "    my_port = my_port_list\n",
    "    beta_lst = []\n",
    "    for i in my_port :\n",
    "        y = ret[my_port][i]\n",
    "        x1 = KOSPI_ret\n",
    "        x = sm.add_constant(x1)\n",
    "        result = sm.OLS(y,x).fit()\n",
    "        beta = result.params[1]\n",
    "        beta_lst.append(beta)\n",
    "    rm = (1 + KOSPI_ret[KOSPI_ret.columns[0]].resample('M').last().mean())**12-1\n",
    "    risk_free = rf.RF.mean()        \n",
    "    Required_Return = risk_free + np.array(beta_lst) * (rm - risk_free)\n",
    "    \n",
    "    my_fun_str = ''\n",
    "    for i in range(len(my_port)) :\n",
    "        my_fun_str += '-x[' + str(i) + ']'\n",
    "    cons = ({'type':'eq', 'fun':lambda x : eval(my_fun_str) +1})\n",
    "    if len(my_port) >= 4 :\n",
    "        bnds = tuple([(0,0.3)] * len(my_port))\n",
    "    else :\n",
    "        bnds = tuple([(0,1)] * len(my_port))\n",
    "        \n",
    "    def objfun(x, ret, alpha) :\n",
    "        cov = ret[my_port].ewm(alpha = a).cov().loc[ret.index[-1]]\n",
    "        PF_std =  np.sqrt(x.reshape(1,-1).dot(cov).dot(x.reshape(-1,1)))\n",
    "        PF_ret = (x * Required_Return).sum()\n",
    "        sharp = PF_ret/PF_std\n",
    "        return -sharp\n",
    "    x0 = tuple([1/len(my_port)]*len(my_port))\n",
    "    res = minimize(objfun, x0, method = 'SLSQP', bounds = bnds, constraints = cons, args= (ret, a))\n",
    "    return pd.DataFrame(res.x, index = my_port, columns = ['Wegiht']).T"
   ]
  },
  {
   "cell_type": "code",
   "execution_count": 8,
   "metadata": {
    "scrolled": false
   },
   "outputs": [
    {
     "name": "stderr",
     "output_type": "stream",
     "text": [
      "C:\\Users\\LIMDAESUN\\anaconda3\\lib\\site-packages\\numpy\\core\\fromnumeric.py:2389: FutureWarning: Method .ptp is deprecated and will be removed in a future version. Use numpy.ptp instead.\n",
      "  return ptp(axis=axis, out=out, **kwargs)\n"
     ]
    },
    {
     "data": {
      "text/html": [
       "<div>\n",
       "<style scoped>\n",
       "    .dataframe tbody tr th:only-of-type {\n",
       "        vertical-align: middle;\n",
       "    }\n",
       "\n",
       "    .dataframe tbody tr th {\n",
       "        vertical-align: top;\n",
       "    }\n",
       "\n",
       "    .dataframe thead th {\n",
       "        text-align: right;\n",
       "    }\n",
       "</style>\n",
       "<table border=\"1\" class=\"dataframe\">\n",
       "  <thead>\n",
       "    <tr style=\"text-align: right;\">\n",
       "      <th></th>\n",
       "      <th>A005930</th>\n",
       "      <th>A005380</th>\n",
       "      <th>A000660</th>\n",
       "      <th>A068270</th>\n",
       "      <th>A005490</th>\n",
       "      <th>A002420</th>\n",
       "    </tr>\n",
       "  </thead>\n",
       "  <tbody>\n",
       "    <tr>\n",
       "      <th>Wegiht</th>\n",
       "      <td>0.3</td>\n",
       "      <td>0.23716</td>\n",
       "      <td>0.036341</td>\n",
       "      <td>0.08417</td>\n",
       "      <td>0.290636</td>\n",
       "      <td>0.051692</td>\n",
       "    </tr>\n",
       "  </tbody>\n",
       "</table>\n",
       "</div>"
      ],
      "text/plain": [
       "        A005930  A005380   A000660  A068270   A005490   A002420\n",
       "Wegiht      0.3  0.23716  0.036341  0.08417  0.290636  0.051692"
      ]
     },
     "execution_count": 8,
     "metadata": {},
     "output_type": "execute_result"
    }
   ],
   "source": [
    "w_by_sharp_max(my_port, ret, KOSPI_ret, a = 0.05)"
   ]
  },
  {
   "cell_type": "code",
   "execution_count": null,
   "metadata": {},
   "outputs": [],
   "source": []
  }
 ],
 "metadata": {
  "kernelspec": {
   "display_name": "Python 3",
   "language": "python",
   "name": "python3"
  },
  "language_info": {
   "codemirror_mode": {
    "name": "ipython",
    "version": 3
   },
   "file_extension": ".py",
   "mimetype": "text/x-python",
   "name": "python",
   "nbconvert_exporter": "python",
   "pygments_lexer": "ipython3",
   "version": "3.8.5"
  }
 },
 "nbformat": 4,
 "nbformat_minor": 4
}
